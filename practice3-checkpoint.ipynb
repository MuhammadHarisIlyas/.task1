{
 "cells": [
  {
   "cell_type": "code",
   "execution_count": 22,
   "id": "c08613e7-7d8c-482e-b144-c5a1449d0ac0",
   "metadata": {},
   "outputs": [
    {
     "name": "stdin",
     "output_type": "stream",
     "text": [
      "Enter your Email xyz@gmail.com\n",
      "Enter your passward 1243\n"
     ]
    },
    {
     "name": "stdout",
     "output_type": "stream",
     "text": [
      "passward incorrect\n"
     ]
    },
    {
     "name": "stdin",
     "output_type": "stream",
     "text": [
      "Enter passward Again 1234\n"
     ]
    },
    {
     "name": "stdout",
     "output_type": "stream",
     "text": [
      "correct passward\n"
     ]
    }
   ],
   "source": [
    "#if else structure or decision statements\n",
    "#correct email- xyz@gmail.com\n",
    "#pasward- 1234\n",
    "email = input(\"Enter your Email\")\n",
    "if \"@\" in email:\n",
    "    passward = input(\"Enter your passward\")\n",
    "    if email == \"xyz@gmail.com\" and passward == \"1234\":\n",
    "        print(\"Welcome\")\n",
    "    elif email == \"xyz@gmail.com\" and passward != \"1234\":\n",
    "        print(\"passward incorrect\")\n",
    "        passward = input(\"Enter passward Again\")\n",
    "        if passward == \"1234\":\n",
    "            print(\"correct passward\")\n",
    "        else:\n",
    "            print(\"still incorrect\")\n",
    "    else:\n",
    "         print(\"incorrect credentials\")\n",
    "else:\n",
    "    print(\"Enter the correct Email\")"
   ]
  },
  {
   "cell_type": "code",
   "execution_count": null,
   "id": "87b8cdaf-7624-49fd-89da-55e8071677ea",
   "metadata": {},
   "outputs": [],
   "source": []
  }
 ],
 "metadata": {
  "kernelspec": {
   "display_name": "Python 3 (ipykernel)",
   "language": "python",
   "name": "python3"
  },
  "language_info": {
   "codemirror_mode": {
    "name": "ipython",
    "version": 3
   },
   "file_extension": ".py",
   "mimetype": "text/x-python",
   "name": "python",
   "nbconvert_exporter": "python",
   "pygments_lexer": "ipython3",
   "version": "3.13.3"
  },
  "widgets": {
   "application/vnd.jupyter.widget-state+json": {
    "state": {},
    "version_major": 2,
    "version_minor": 0
   }
  }
 },
 "nbformat": 4,
 "nbformat_minor": 5
}
