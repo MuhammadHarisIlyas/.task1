{
 "cells": [
  {
   "cell_type": "markdown",
   "id": "30774138-2bef-4c0d-90b7-0b1b99d16299",
   "metadata": {},
   "source": [
    "If and Nested If-Else Statements"
   ]
  },
  {
   "cell_type": "markdown",
   "id": "b01d1f2c-3ce0-43c2-b3a2-a6e5fdac6e39",
   "metadata": {},
   "source": [
    "1. Grade Evaluator"
   ]
  },
  {
   "cell_type": "code",
   "execution_count": 2,
   "id": "f98c0146-9548-4f73-9563-2618dcb81412",
   "metadata": {},
   "outputs": [
    {
     "name": "stdin",
     "output_type": "stream",
     "text": [
      "Enter the marks of the students 56\n"
     ]
    },
    {
     "name": "stdout",
     "output_type": "stream",
     "text": [
      "Grade:F\n"
     ]
    }
   ],
   "source": [
    "marks = int(input(\"Enter the marks of the students\"))\n",
    "\n",
    "def calculate_grade(marks):\n",
    "    if marks >= 90:\n",
    "        return \"A\"\n",
    "    elif marks >= 80:\n",
    "        return \"B\"\n",
    "    elif marks >= 70:\n",
    "        return \"C\"\n",
    "    else:\n",
    "        return \"F\"\n",
    "\n",
    "grade = calculate_grade(marks)\n",
    "print(f\"Grade:{grade}\")"
   ]
  },
  {
   "cell_type": "markdown",
   "id": "187efd6a-9e7b-49b1-93b0-a4f0ed954f7c",
   "metadata": {},
   "source": [
    "2. leap year checker"
   ]
  },
  {
   "cell_type": "code",
   "execution_count": 1,
   "id": "09d29783-0a0b-4b55-9587-3ebd9c025b5f",
   "metadata": {},
   "outputs": [
    {
     "name": "stdin",
     "output_type": "stream",
     "text": [
      "Enter the year to check if it is leap or not 2025\n"
     ]
    },
    {
     "name": "stdout",
     "output_type": "stream",
     "text": [
      "It is not leap year\n"
     ]
    }
   ],
   "source": [
    "year = int(input(\"Enter the year to check if it is leap or not\"))\n",
    "\n",
    "if year%4==0:\n",
    "    print(\"Ït is leap year\")\n",
    "else:\n",
    "    print(\"It is not leap year\")"
   ]
  },
  {
   "cell_type": "markdown",
   "id": "cb32a9b1-3ff6-4c7b-8fe9-eb77b44b899b",
   "metadata": {},
   "source": [
    "3. Largrst of three numbers"
   ]
  },
  {
   "cell_type": "code",
   "execution_count": 4,
   "id": "37b8fcce-c3a1-4a9c-a611-d4ea486ab0bc",
   "metadata": {},
   "outputs": [
    {
     "name": "stdin",
     "output_type": "stream",
     "text": [
      "Enter the first number 67\n",
      "Enter the second number 98\n",
      "Enter the third number 0\n"
     ]
    },
    {
     "name": "stdout",
     "output_type": "stream",
     "text": [
      "98.0 is largest number\n"
     ]
    }
   ],
   "source": [
    "num1 = float(input(\"Enter the first number\"))\n",
    "num2 = float(input(\"Enter the second number\"))\n",
    "num3 = float(input(\"Enter the third number\"))\n",
    "\n",
    "if num1>=num2:\n",
    "    if num1>=num3:\n",
    "        print(f\"{num1} is largest number\")\n",
    "    else:\n",
    "        print(f\"{num3} is largest number\")\n",
    "else:\n",
    "    if num2>=num3:\n",
    "         print(f\"{num2} is largest number\")\n",
    "    else:\n",
    "         print(f\"{num3} is largest number\")"
   ]
  },
  {
   "cell_type": "markdown",
   "id": "a764fdba-946c-43a8-b587-1c726e228c38",
   "metadata": {},
   "source": [
    "4. Traffic light simulator"
   ]
  },
  {
   "cell_type": "code",
   "execution_count": 11,
   "id": "baa33f3b-7b6e-4881-ace7-c5bef6deb969",
   "metadata": {},
   "outputs": [
    {
     "name": "stdin",
     "output_type": "stream",
     "text": [
      "Enter the color red ,yellow or green green\n"
     ]
    },
    {
     "name": "stdout",
     "output_type": "stream",
     "text": [
      "Go\n"
     ]
    }
   ],
   "source": [
    "color=input(\"Enter the color red ,yellow or green\").lower()\n",
    "\n",
    "if color==\"red\":\n",
    "    print(\"stop\")\n",
    "elif  color==\"yellow\":\n",
    "    print(\"wait\")\n",
    "elif  color==\"green\":\n",
    "    print(\"Go\")\n",
    "else:\n",
    "    print(\"Invalid color, plz enter the valid color among the given colors\")"
   ]
  },
  {
   "cell_type": "markdown",
   "id": "4c58e727-c454-4040-9702-2269e86e36ac",
   "metadata": {},
   "source": [
    "5. Simple calculator with conditions "
   ]
  },
  {
   "cell_type": "code",
   "execution_count": 14,
   "id": "265cb7e1-8dfe-4bdd-8aeb-8304bdd29a57",
   "metadata": {},
   "outputs": [
    {
     "name": "stdin",
     "output_type": "stream",
     "text": [
      "Enter the first number: 56\n",
      "Enter operator: (+,-,*,/) +\n",
      "Enter the second number: 44\n"
     ]
    },
    {
     "name": "stdout",
     "output_type": "stream",
     "text": [
      "Result = 100.0\n"
     ]
    }
   ],
   "source": [
    "num1 = float(input(\"Enter the first number:\"))\n",
    "operator = input(\"Enter operator: (+,-,*,/)\")\n",
    "num2 = float(input(\"Enter the second number:\"))\n",
    "\n",
    "if operator==\"+\":\n",
    "    print(f\"Result = {num1+num2}\")\n",
    "elif operator==\"-\":\n",
    "    print(f\"Result = {num1-num2}\")\n",
    "elif operator==\"*\":\n",
    "    print(f\"Result = {num1*num2}\")\n",
    "elif operator==\"/\":\n",
    "    if num2!=0:\n",
    "       print(f\"Result = {num1/num2}\")\n",
    "    else:\n",
    "        print(\"Error due to division by zero\")\n",
    "else:\n",
    "    print(\"Invalid operator, plz enter the valid operator\")\n",
    "    \n",
    "    "
   ]
  },
  {
   "cell_type": "markdown",
   "id": "d3dde91a-aa25-4167-bee0-0f3e39c73981",
   "metadata": {},
   "source": [
    "Loops (for, while)"
   ]
  },
  {
   "cell_type": "markdown",
   "id": "f7a79cf9-fe19-4fb2-b0e3-bced2a2b0732",
   "metadata": {},
   "source": [
    "1. Sum of first N numbers"
   ]
  },
  {
   "cell_type": "code",
   "execution_count": 5,
   "id": "b291a086-af64-4be9-ba46-a264e51b7706",
   "metadata": {},
   "outputs": [
    {
     "name": "stdin",
     "output_type": "stream",
     "text": [
      "Enter the number 5\n"
     ]
    },
    {
     "name": "stdout",
     "output_type": "stream",
     "text": [
      "sum of first 5 natural numbers:15\n"
     ]
    }
   ],
   "source": [
    "n = int(input(\"Enter the number\"))\n",
    "sum = 0\n",
    "\n",
    "for i in range(1,n+1):\n",
    "    sum=sum+i\n",
    "print(f\"sum of first {n} natural numbers:{sum}\")"
   ]
  },
  {
   "cell_type": "markdown",
   "id": "6fa653d2-28f3-4ca2-99c3-58580f0a765a",
   "metadata": {},
   "source": [
    "2. Factorial finder"
   ]
  },
  {
   "cell_type": "code",
   "execution_count": 8,
   "id": "75c8ef20-4de5-4ca6-afa4-95eba41f55de",
   "metadata": {},
   "outputs": [
    {
     "name": "stdin",
     "output_type": "stream",
     "text": [
      "Enter the number 5\n"
     ]
    },
    {
     "name": "stdout",
     "output_type": "stream",
     "text": [
      "Factorial of 5:120\n"
     ]
    }
   ],
   "source": [
    "num = int(input(\"Enter the number\"))\n",
    "fact = 1\n",
    "i = 1\n",
    "\n",
    "while i<=num:\n",
    "    fact = fact*i\n",
    "    i = i+1\n",
    "print(f\"Factorial of {num}:{fact}\")"
   ]
  },
  {
   "cell_type": "markdown",
   "id": "a40ff517-e25e-44b6-862e-c3db6db02f30",
   "metadata": {},
   "source": [
    "3. Multiplication table generator"
   ]
  },
  {
   "cell_type": "code",
   "execution_count": 16,
   "id": "f71a3e48-5ae9-4c67-8f04-0375376bf691",
   "metadata": {},
   "outputs": [
    {
     "name": "stdin",
     "output_type": "stream",
     "text": [
      "Enter the number 8\n"
     ]
    },
    {
     "name": "stdout",
     "output_type": "stream",
     "text": [
      "8x1=8\n",
      "8x2=16\n",
      "8x3=24\n",
      "8x4=32\n",
      "8x5=40\n",
      "8x6=48\n",
      "8x7=56\n",
      "8x8=64\n",
      "8x9=72\n",
      "8x10=80\n"
     ]
    }
   ],
   "source": [
    "num = int(input(\"Enter the number\"))\n",
    "for i in range(1,11):\n",
    "    print(f\"{num}x{i}={num*i}\")"
   ]
  },
  {
   "cell_type": "markdown",
   "id": "d197f2f3-6b11-4b3d-ab02-27388fbbb1b8",
   "metadata": {},
   "source": [
    "4. Fibonnacci Series"
   ]
  },
  {
   "cell_type": "code",
   "execution_count": 10,
   "id": "ffc248de-b8a9-4d44-90b2-bade736ef120",
   "metadata": {},
   "outputs": [
    {
     "name": "stdin",
     "output_type": "stream",
     "text": [
      "Enter the number: 6\n"
     ]
    },
    {
     "name": "stdout",
     "output_type": "stream",
     "text": [
      "0\n",
      "1\n",
      "1\n",
      "2\n",
      "3\n",
      "5\n"
     ]
    }
   ],
   "source": [
    "n = int(input(\"Enter the number:\"))\n",
    "first = 0\n",
    "second = 1\n",
    "\n",
    "for i in range(0,n):\n",
    "    print(first)\n",
    "    sum=first+second\n",
    "    first=second\n",
    "    second=sum"
   ]
  },
  {
   "cell_type": "markdown",
   "id": "e99693dd-553a-4e68-b261-1da663739919",
   "metadata": {},
   "source": [
    "5. Prime number between 1 to N"
   ]
  },
  {
   "cell_type": "code",
   "execution_count": 17,
   "id": "f609020d-1342-4e20-a60f-05a4ba4bd2db",
   "metadata": {},
   "outputs": [
    {
     "name": "stdin",
     "output_type": "stream",
     "text": [
      "Enter the n prime number: 5\n"
     ]
    },
    {
     "name": "stdout",
     "output_type": "stream",
     "text": [
      "3\n",
      "5\n",
      "5\n",
      "5\n"
     ]
    }
   ],
   "source": [
    "n = int(input(\"Enter the n prime number:\"))\n",
    "\n",
    "for i in range(2,n+1):\n",
    "    is_prime=True\n",
    "    for j in range(2,i):\n",
    "        if(i%j==0):\n",
    "            is_prime=False\n",
    "        if is_prime:\n",
    "            print(i)\n",
    "            "
   ]
  },
  {
   "cell_type": "markdown",
   "id": "311c9cb4-eae4-45c2-a6be-0e1122a167cf",
   "metadata": {},
   "source": [
    "Built-in Functions"
   ]
  },
  {
   "cell_type": "markdown",
   "id": "dfabfd00-c449-4251-9cce-eef25a6159b7",
   "metadata": {},
   "source": [
    "1.List Stats"
   ]
  },
  {
   "cell_type": "code",
   "execution_count": 4,
   "id": "264eb305-f5b9-47ef-9558-7506e476b3cb",
   "metadata": {},
   "outputs": [
    {
     "name": "stdout",
     "output_type": "stream",
     "text": [
      "max 76\n",
      "min 16\n",
      "sum 317\n",
      "Average 39.625\n"
     ]
    }
   ],
   "source": [
    "import statistics\n",
    "numbers=[44,54,76,24,46,28,16,29]\n",
    "print(\"max\",max(numbers))\n",
    "print(\"min\",min(numbers))\n",
    "print(\"sum\",sum(numbers))\n",
    "print(\"Average\",statistics.mean(numbers))"
   ]
  },
  {
   "cell_type": "markdown",
   "id": "616de524-2731-481a-a3ea-df3a343df87f",
   "metadata": {},
   "source": [
    "2. String Case counter"
   ]
  },
  {
   "cell_type": "code",
   "execution_count": 1,
   "id": "881842aa-03e7-41d2-9a1c-3670abc6c2fc",
   "metadata": {},
   "outputs": [
    {
     "name": "stdin",
     "output_type": "stream",
     "text": [
      "Enter the String: This is Python Programming Tutorial For Begginers\n"
     ]
    },
    {
     "name": "stdout",
     "output_type": "stream",
     "text": [
      "\n",
      "Upper count 6\n",
      "Lower count 37\n"
     ]
    }
   ],
   "source": [
    "letter = input(\"Enter the String:\")\n",
    "print()\n",
    "upperCount = 0\n",
    "lowerCount = 0\n",
    "for char in letter:\n",
    "    if char .isupper():\n",
    "        upperCount=upperCount+1\n",
    "    elif char .islower():\n",
    "        lowerCount=lowerCount+1\n",
    "print(\"Upper count\", upperCount)\n",
    "print(\"Lower count\", lowerCount)\n"
   ]
  },
  {
   "cell_type": "markdown",
   "id": "1a0fe179-1dd4-4c21-8c54-6c38d9527271",
   "metadata": {},
   "source": [
    "3. Sorted even numbers"
   ]
  },
  {
   "cell_type": "code",
   "execution_count": 33,
   "id": "98d97531-1d85-4130-92c9-14429f922a6a",
   "metadata": {},
   "outputs": [
    {
     "name": "stdout",
     "output_type": "stream",
     "text": [
      "Even numbers in descending order: [98, 66, 48, 44, 16]\n"
     ]
    }
   ],
   "source": [
    "numbers = [23,65,87,45,77,66,98,44,48,29,16]\n",
    "even_numbers=sorted([num for num in numbers if num%2==0],reverse=True)\n",
    "print(\"Even numbers in descending order:\",even_numbers)"
   ]
  },
  {
   "cell_type": "markdown",
   "id": "a0d0298a-c182-48cc-a686-2d042ec7f0f0",
   "metadata": {},
   "source": [
    "4. Custom Round-off"
   ]
  },
  {
   "cell_type": "code",
   "execution_count": 34,
   "id": "f98935f8-93bb-4af8-80c7-f9971dee2413",
   "metadata": {},
   "outputs": [
    {
     "name": "stdin",
     "output_type": "stream",
     "text": [
      "Enter the float number: 22.5439653\n"
     ]
    },
    {
     "name": "stdout",
     "output_type": "stream",
     "text": [
      "Rounded number: 22.54\n"
     ]
    }
   ],
   "source": [
    "num = float(input(\"Enter the float number:\"))\n",
    "rounded_num=round(num,2)\n",
    "\n",
    "print(\"Rounded number:\",rounded_num)"
   ]
  },
  {
   "cell_type": "markdown",
   "id": "df775dc2-35b4-46d8-8d70-3924ff14fc51",
   "metadata": {},
   "source": [
    "5. ASCII value finder"
   ]
  },
  {
   "cell_type": "code",
   "execution_count": 38,
   "id": "cba52849-e6e4-44bc-bbd2-d886371887fb",
   "metadata": {},
   "outputs": [
    {
     "name": "stdin",
     "output_type": "stream",
     "text": [
      "Ënter the character: g\n"
     ]
    },
    {
     "name": "stdout",
     "output_type": "stream",
     "text": [
      "ASCII value of g:103\n"
     ]
    }
   ],
   "source": [
    "char = input(\"Ënter the character:\")\n",
    "if len(char)==1:\n",
    "    ascii_value=ord(char)\n",
    "    print(f\"ASCII value of {char}:{ascii_value}\")\n",
    "else:\n",
    "    print(\"please enter the single character\")\n",
    "    "
   ]
  },
  {
   "cell_type": "markdown",
   "id": "7ef9bf8b-7ea6-4ebf-a0aa-82ca7c9d91f0",
   "metadata": {},
   "source": [
    "Strings and String operations"
   ]
  },
  {
   "cell_type": "markdown",
   "id": "868f0ad4-81d8-4404-a9ea-8e4d80e7f3d0",
   "metadata": {},
   "source": [
    "1. Palindrome checker"
   ]
  },
  {
   "cell_type": "code",
   "execution_count": 7,
   "id": "822946e3-200b-4673-b957-d68d5c3ca08c",
   "metadata": {},
   "outputs": [
    {
     "name": "stdin",
     "output_type": "stream",
     "text": [
      "Enter the string to check if it is palindrome or not uhhu\n"
     ]
    },
    {
     "name": "stdout",
     "output_type": "stream",
     "text": [
      "uhhu is palindrome.\n"
     ]
    }
   ],
   "source": [
    "s = input(\"Enter the string to check if it is palindrome or not\")\n",
    "if (s==s[::-1]):\n",
    "    print(f\"{s} is palindrome.\")\n",
    "else:\n",
    "    print(f\"{s} is not a palindrome\")"
   ]
  },
  {
   "cell_type": "markdown",
   "id": "fdb21258-99d5-418f-963e-4549bf036205",
   "metadata": {},
   "source": [
    "2. Word frequency counter"
   ]
  },
  {
   "cell_type": "code",
   "execution_count": 8,
   "id": "e1c567cc-3976-437d-9305-a439942a1999",
   "metadata": {},
   "outputs": [
    {
     "name": "stdout",
     "output_type": "stream",
     "text": [
      "p: 4\n",
      "m: 6\n",
      "n: 4\n",
      "a: 5\n"
     ]
    }
   ],
   "source": [
    "string = \"python is most important programming language used by programmers.\"\n",
    "\n",
    "print(\"p:\", string.count(\"p\"))\n",
    "print(\"m:\", string.count(\"m\"))\n",
    "print(\"n:\", string.count(\"n\"))\n",
    "print(\"a:\", string.count(\"a\"))"
   ]
  },
  {
   "cell_type": "markdown",
   "id": "1bf6a75f-8f99-44fb-8bdd-03d7a9633aa8",
   "metadata": {},
   "source": [
    "3. Vowel and Consonent Counter"
   ]
  },
  {
   "cell_type": "code",
   "execution_count": 10,
   "id": "e06602a4-7e7e-4b29-9c76-723f6bb027a0",
   "metadata": {},
   "outputs": [
    {
     "name": "stdin",
     "output_type": "stream",
     "text": [
      "Ënter the string: hello hoew are you\n"
     ]
    },
    {
     "name": "stdout",
     "output_type": "stream",
     "text": [
      "Vowels  8\n",
      "Consonent  7\n"
     ]
    }
   ],
   "source": [
    "string=input(\"Ënter the string:\")\n",
    "\n",
    "vowels = \"aeiou\"\n",
    "vowels_count=0\n",
    "consonent_count=0\n",
    "\n",
    "for char in string:\n",
    "    if char .isalpha():\n",
    "        if char in vowels:\n",
    "            vowels_count=vowels_count+1\n",
    "        else:\n",
    "            consonent_count=consonent_count+1\n",
    "print(\"Vowels \",vowels_count)\n",
    "print(\"Consonent \",consonent_count)\n",
    "      "
   ]
  },
  {
   "cell_type": "markdown",
   "id": "9158814e-dcff-44d0-bf4e-c0dbdafb3eda",
   "metadata": {},
   "source": [
    "4. Remove punctuations"
   ]
  },
  {
   "cell_type": "code",
   "execution_count": 13,
   "id": "785a73d1-97d8-4347-b2ee-c48117bd5e98",
   "metadata": {},
   "outputs": [
    {
     "name": "stdin",
     "output_type": "stream",
     "text": [
      "Enter the sentence: hay how are you:\n"
     ]
    },
    {
     "name": "stdout",
     "output_type": "stream",
     "text": [
      "hay how are you\n"
     ]
    }
   ],
   "source": [
    "string = input(\"Enter the sentence:\")\n",
    "print(string.replace(\":\",\"\"))"
   ]
  },
  {
   "cell_type": "markdown",
   "id": "bd11129e-34ec-4abf-9993-bbe3ba456a1a",
   "metadata": {},
   "source": [
    "5. longest Word finder"
   ]
  },
  {
   "cell_type": "code",
   "execution_count": 1,
   "id": "20ad2201-c15e-4bd6-8fd3-2503ffa5fc59",
   "metadata": {},
   "outputs": [
    {
     "name": "stdin",
     "output_type": "stream",
     "text": [
      "Enter the sentence hey how are you\n"
     ]
    },
    {
     "name": "stdout",
     "output_type": "stream",
     "text": [
      "hey\n"
     ]
    }
   ],
   "source": [
    "string = input(\"Enter the sentence\")\n",
    "words = string.split()\n",
    "largest = max(words , key=len)\n",
    "print(largest)"
   ]
  },
  {
   "cell_type": "markdown",
   "id": "d095dbf8-2321-4abf-a61f-4dd4ac4ee025",
   "metadata": {},
   "source": [
    "Python lists"
   ]
  },
  {
   "cell_type": "markdown",
   "id": "b9ca61a6-97d9-4003-bac3-f4f09afcdb2b",
   "metadata": {},
   "source": [
    "1. List reverser"
   ]
  },
  {
   "cell_type": "code",
   "execution_count": 7,
   "id": "e3d5b649-931a-4112-999c-e81ea2f610ce",
   "metadata": {},
   "outputs": [
    {
     "name": "stdout",
     "output_type": "stream",
     "text": [
      "9\n",
      "8\n",
      "7\n",
      "6\n",
      "5\n",
      "4\n",
      "3\n",
      "2\n",
      "1\n"
     ]
    }
   ],
   "source": [
    "l = [1,2,3,4,5,6,7,8,9]\n",
    "lenth=len(l)-1\n",
    "for i in range(lenth,-1,-1):\n",
    "    print(l[i])"
   ]
  },
  {
   "cell_type": "markdown",
   "id": "78e632ee-5a4f-492d-8fbb-f7762b59563d",
   "metadata": {},
   "source": [
    "2. Duplicate remover"
   ]
  },
  {
   "cell_type": "code",
   "execution_count": 8,
   "id": "c9b8db31-9ffd-4fb7-a37f-9320409d5828",
   "metadata": {},
   "outputs": [
    {
     "name": "stdout",
     "output_type": "stream",
     "text": [
      "[2, 3, 4, 6, 5, 8, 7]\n"
     ]
    }
   ],
   "source": [
    "l = [2,3,4,2,6,5,3,8,7,6,6]\n",
    "l2 = []\n",
    "for i in l:\n",
    "    if i not in l2:\n",
    "        l2.append(i)\n",
    "print(l2)"
   ]
  },
  {
   "cell_type": "markdown",
   "id": "180de8f6-12ee-4a27-9dc9-5b6b55b52f63",
   "metadata": {},
   "source": [
    "3. Second largest element"
   ]
  },
  {
   "cell_type": "code",
   "execution_count": 9,
   "id": "702bb937-73b1-4412-b35e-96c2407b29ae",
   "metadata": {},
   "outputs": [
    {
     "name": "stdout",
     "output_type": "stream",
     "text": [
      "93\n"
     ]
    }
   ],
   "source": [
    "l = [65,87,45,98,76,93,78]\n",
    "l.sort()\n",
    "print(l[-2])"
   ]
  },
  {
   "cell_type": "markdown",
   "id": "f2a1602c-2530-42c2-8fc7-e7fc9fdb1a05",
   "metadata": {},
   "source": [
    "4. List element frequency"
   ]
  },
  {
   "cell_type": "code",
   "execution_count": 24,
   "id": "585d5f90-6a24-40d1-8469-ccd48d771e96",
   "metadata": {},
   "outputs": [
    {
     "name": "stdout",
     "output_type": "stream",
     "text": [
      "1 : 1\n",
      "3 : 2\n",
      "4 : 2\n",
      "6 : 2\n",
      "5 : 1\n",
      "7 : 2\n",
      "8 : 1\n",
      "9 : 1\n"
     ]
    }
   ],
   "source": [
    "my_list = [1,3,3,4,4,6,5,7,6,8,9,7]\n",
    "freq_dict = {}\n",
    "\n",
    "for elem in my_list:\n",
    "    if elem in freq_dict:\n",
    "        freq_dict[elem]+=1\n",
    "    else:\n",
    "        freq_dict[elem]=1\n",
    "\n",
    "for elem, freq in freq_dict.items():\n",
    "    print(f\"{elem} : {freq}\")"
   ]
  },
  {
   "cell_type": "markdown",
   "id": "109d9c3e-ff61-4f4c-8c6e-4b0babd5ff95",
   "metadata": {},
   "source": [
    "5. Merge and sort lists"
   ]
  },
  {
   "cell_type": "code",
   "execution_count": 31,
   "id": "0564dc68-0575-4871-b5f9-9944649e757a",
   "metadata": {},
   "outputs": [
    {
     "name": "stdout",
     "output_type": "stream",
     "text": [
      "[2, 3, 4, 5, 6, 7, 8, 9]\n"
     ]
    }
   ],
   "source": [
    "l1 = [2,3,6,7,4,8,7]\n",
    "l2 = [3,5,6,2,8,9,3]\n",
    "mergeList=l1+l2\n",
    "del list\n",
    "newlist = list(set(mergeList))\n",
    "for i in range(len(newlist)):\n",
    "    for j in range(i+1,len(newlist)):\n",
    "        if newlist[i]>newlist[j]:\n",
    "            newlist[i],newlist[j]=newlist[j],newlist[i]\n",
    "\n",
    "print(newlist)"
   ]
  },
  {
   "cell_type": "markdown",
   "id": "a473cf39-5a9b-49f0-a7fb-bf9e090c061a",
   "metadata": {},
   "source": [
    "Python tuples"
   ]
  },
  {
   "cell_type": "markdown",
   "id": "8935880e-caf9-4dce-8d1b-ed0544ddbb99",
   "metadata": {},
   "source": [
    "1. Tuple swapper"
   ]
  },
  {
   "cell_type": "code",
   "execution_count": 10,
   "id": "97e26c48-749b-41fd-beb2-240377106ab2",
   "metadata": {},
   "outputs": [
    {
     "name": "stdout",
     "output_type": "stream",
     "text": [
      "a = (2, 6, 8, 9)\n",
      "b = (3, 5, 4, 7)\n"
     ]
    }
   ],
   "source": [
    "a = (3,5,4,7)\n",
    "b = (2,6,8,9)\n",
    "a,b=b,a\n",
    "print(\"a =\", a)\n",
    "print(\"b =\", b)"
   ]
  },
  {
   "cell_type": "markdown",
   "id": "914eb2cd-e04e-4509-8249-49019933ca64",
   "metadata": {},
   "source": [
    "2. Tuple reverser"
   ]
  },
  {
   "cell_type": "code",
   "execution_count": 11,
   "id": "1a69f384-2795-4395-88d2-b8964bd3ef8f",
   "metadata": {},
   "outputs": [
    {
     "name": "stdout",
     "output_type": "stream",
     "text": [
      "[9, 8, 6, 4, 2]\n"
     ]
    }
   ],
   "source": [
    "l = [2,4,6,8,9]\n",
    "print(l[::-1])"
   ]
  },
  {
   "cell_type": "markdown",
   "id": "3c30173d-1a35-405f-baed-b2533e089fef",
   "metadata": {},
   "source": [
    "3. Tuple to string"
   ]
  },
  {
   "cell_type": "code",
   "execution_count": 13,
   "id": "67ecc498-aac8-488c-959a-c11a6d6953b2",
   "metadata": {},
   "outputs": [
    {
     "name": "stdout",
     "output_type": "stream",
     "text": [
      "Programe\n"
     ]
    }
   ],
   "source": [
    "T = ('P','r','o','g','r','a','m','e')\n",
    "single=''.join(T)\n",
    "print(single)"
   ]
  },
  {
   "cell_type": "markdown",
   "id": "8c8abd63-6626-4c1e-937e-ca12fac9157f",
   "metadata": {},
   "source": [
    "4. Element to index finder"
   ]
  },
  {
   "cell_type": "code",
   "execution_count": 16,
   "id": "c5060d43-95b5-4435-9367-84fc81682b38",
   "metadata": {},
   "outputs": [
    {
     "name": "stdout",
     "output_type": "stream",
     "text": [
      "('ali', 'hammad', 6, 7, 8, 9)\n"
     ]
    },
    {
     "name": "stdin",
     "output_type": "stream",
     "text": [
      "Enter the index of value in tuple : 3\n"
     ]
    },
    {
     "name": "stdout",
     "output_type": "stream",
     "text": [
      "7\n"
     ]
    }
   ],
   "source": [
    "T = (\"ali\",\"hammad\",6,7,8,9)\n",
    "print(T)\n",
    "index = int(input(\"Enter the index of value in tuple :\"))\n",
    "print(T[index])"
   ]
  },
  {
   "cell_type": "markdown",
   "id": "17aadfe7-1154-489c-a9ad-0706837d49b8",
   "metadata": {},
   "source": [
    "5. Immutable test"
   ]
  },
  {
   "cell_type": "code",
   "execution_count": 17,
   "id": "787c6bf2-401b-4db4-a8e4-f1da2a52ae7d",
   "metadata": {},
   "outputs": [
    {
     "ename": "TypeError",
     "evalue": "'tuple' object does not support item assignment",
     "output_type": "error",
     "traceback": [
      "\u001b[31m---------------------------------------------------------------------------\u001b[39m",
      "\u001b[31mTypeError\u001b[39m                                 Traceback (most recent call last)",
      "\u001b[36mCell\u001b[39m\u001b[36m \u001b[39m\u001b[32mIn[17]\u001b[39m\u001b[32m, line 2\u001b[39m\n\u001b[32m      1\u001b[39m T = (\u001b[32m5\u001b[39m,\u001b[32m7\u001b[39m,\u001b[32m9\u001b[39m,\u001b[32m6\u001b[39m,\u001b[32m3\u001b[39m)\n\u001b[32m----> \u001b[39m\u001b[32m2\u001b[39m \u001b[43mT\u001b[49m\u001b[43m[\u001b[49m\u001b[32;43m0\u001b[39;49m\u001b[43m]\u001b[49m=\u001b[32m67\u001b[39m\n\u001b[32m      3\u001b[39m \u001b[38;5;28mprint\u001b[39m(T)\n",
      "\u001b[31mTypeError\u001b[39m: 'tuple' object does not support item assignment"
     ]
    }
   ],
   "source": [
    "T = (5,7,9,6,3)\n",
    "T[0]=67\n",
    "print(T)"
   ]
  },
  {
   "cell_type": "markdown",
   "id": "27df5857-8e37-4f5e-9548-0a6de767a50d",
   "metadata": {},
   "source": [
    "Python sets"
   ]
  },
  {
   "cell_type": "markdown",
   "id": "0eacec08-0912-40e8-b046-a44fcbdfbc46",
   "metadata": {},
   "source": [
    "1. Set union and intersection"
   ]
  },
  {
   "cell_type": "code",
   "execution_count": 29,
   "id": "d1ff75e8-ea37-434a-ad70-aa103928425b",
   "metadata": {},
   "outputs": [
    {
     "name": "stdout",
     "output_type": "stream",
     "text": [
      "Union {1, 2, 3, 4, 5, 6, 7, 8, 9}\n",
      "intersection set()\n"
     ]
    }
   ],
   "source": [
    "S1 = {2,4,6,8}\n",
    "S2 = {1,3,5,7,9}\n",
    "\n",
    "print(\"Union\", S1.union(S2))\n",
    "print(\"intersection\", S1.intersection(S2))"
   ]
  },
  {
   "cell_type": "markdown",
   "id": "076d739e-7508-45c5-88e2-6e95dc22f75d",
   "metadata": {},
   "source": [
    "2. Unique element from list"
   ]
  },
  {
   "cell_type": "code",
   "execution_count": 22,
   "id": "1704da84-beb4-489d-9628-408217a9bd6a",
   "metadata": {},
   "outputs": [
    {
     "name": "stdout",
     "output_type": "stream",
     "text": [
      "{1, 2, 3, 4, 5, 6, 7, 8, 9}\n"
     ]
    }
   ],
   "source": [
    "l = [1,2,3,4,6,5,7,8,9,1,2,6]\n",
    "set1 = set(l)\n",
    "print(set1)"
   ]
  },
  {
   "cell_type": "markdown",
   "id": "9bb5dc68-ef3f-46aa-925d-25dc60624e11",
   "metadata": {},
   "source": [
    "3. Subset and Superset check"
   ]
  },
  {
   "cell_type": "code",
   "execution_count": 24,
   "id": "96c956ce-2e6a-4d64-97b3-db5474d85180",
   "metadata": {},
   "outputs": [
    {
     "name": "stdout",
     "output_type": "stream",
     "text": [
      "True\n",
      "True\n"
     ]
    }
   ],
   "source": [
    "S1 = {1,2,5,6}\n",
    "S2 = {2,6}\n",
    "print(S2.issubset(S1))\n",
    "print(S1.issuperset(S2))"
   ]
  },
  {
   "cell_type": "markdown",
   "id": "93420712-9d0d-4a08-9634-40dd99a21780",
   "metadata": {},
   "source": [
    "4. Common elements finder"
   ]
  },
  {
   "cell_type": "code",
   "execution_count": 25,
   "id": "7f237d67-0198-43bc-90ea-4bf034fa8446",
   "metadata": {},
   "outputs": [
    {
     "name": "stdout",
     "output_type": "stream",
     "text": [
      "{5, 6, 7}\n"
     ]
    }
   ],
   "source": [
    "l1 = [2,3,5,7,8,6]\n",
    "l2 = [1,6,9,0,5,7]\n",
    "set1 = set(l1)\n",
    "set2 = set(l2)\n",
    "\n",
    "common = set1.intersection(set2)\n",
    "print(common)"
   ]
  },
  {
   "cell_type": "markdown",
   "id": "4390ba82-ccc6-4ce3-bdec-1bbe4cfba6d0",
   "metadata": {},
   "source": [
    "5. Symmetric difference demo"
   ]
  },
  {
   "cell_type": "code",
   "execution_count": 26,
   "id": "6c6f3666-ef06-497b-917b-5e7a57ef9859",
   "metadata": {},
   "outputs": [
    {
     "name": "stdout",
     "output_type": "stream",
     "text": [
      "Symmetric difference: {1, 2, 3, 4, 5, 6, 7, 8}\n"
     ]
    }
   ],
   "source": [
    "S1 = {2,4,6,8,9}\n",
    "S2 ={1,3,5,9,7}\n",
    "print(\"Symmetric difference:\", S2.symmetric_difference(S1))"
   ]
  },
  {
   "cell_type": "markdown",
   "id": "c712a775-885f-426d-a9c3-50beee54d04e",
   "metadata": {},
   "source": [
    "Python dictionary"
   ]
  },
  {
   "cell_type": "markdown",
   "id": "fb885c84-147c-47b4-8a6a-2fc5bfc301c6",
   "metadata": {},
   "source": [
    "1. Student gradebook"
   ]
  },
  {
   "cell_type": "code",
   "execution_count": 9,
   "id": "b322fb9a-1d48-4135-9d4f-96af18ba163e",
   "metadata": {},
   "outputs": [
    {
     "name": "stdout",
     "output_type": "stream",
     "text": [
      "dict_keys(['ali khan', 'sudais khan', 'kamal shah'])\n",
      "dict_values([58, 69, 78])\n"
     ]
    },
    {
     "name": "stdin",
     "output_type": "stream",
     "text": [
      "Enter the name of the student: kamran\n"
     ]
    },
    {
     "name": "stdout",
     "output_type": "stream",
     "text": [
      "student not found\n"
     ]
    }
   ],
   "source": [
    "D = {\n",
    "    \"ali khan\": 58,\n",
    "    \"sudais khan\": 69,\n",
    "    \"kamal shah\": 78,\n",
    "}\n",
    "print(D.keys())\n",
    "print(D.values())\n",
    "\n",
    "name = input(\"Enter the name of the student:\")\n",
    "if name in D:\n",
    "    print(f\"{name} grade is : {D[name]}\")\n",
    "else:\n",
    "    print(\"student not found\")"
   ]
  },
  {
   "cell_type": "markdown",
   "id": "48b15453-4cf6-4932-9656-3f1fb0238ee9",
   "metadata": {},
   "source": [
    "2. Word counter"
   ]
  },
  {
   "cell_type": "code",
   "execution_count": 16,
   "id": "7141c067-953e-41c7-af54-d91125413f73",
   "metadata": {},
   "outputs": [
    {
     "name": "stdout",
     "output_type": "stream",
     "text": [
      "['this', 'is', 'sample', 'paragraph', 'one.this', 'is', 'paragraph', 'two.']\n",
      "\n",
      "{'this': 1, 'is': 2, 'sample': 1, 'paragraph': 2, 'one.this': 1, 'two.': 1}\n"
     ]
    }
   ],
   "source": [
    "word_count = {}\n",
    "para = \"This is sample paragraph one.This is paragraph two.\"\n",
    "\n",
    "words = para.lower().split()\n",
    "print(words)\n",
    "print()\n",
    "\n",
    "for word in words:\n",
    "    word_count[word]=word_count.get(word,0)+1\n",
    "print(word_count)"
   ]
  },
  {
   "cell_type": "markdown",
   "id": "f5254503-4209-4de3-b460-239ada431a93",
   "metadata": {},
   "source": [
    "3. Frequency of character"
   ]
  },
  {
   "cell_type": "code",
   "execution_count": 18,
   "id": "38f81361-bd11-44fa-ac3d-5ff9668a6c33",
   "metadata": {},
   "outputs": [
    {
     "name": "stdin",
     "output_type": "stream",
     "text": [
      "Enter the string:  This is Python Programming Tutorial For Begginers\n"
     ]
    },
    {
     "name": "stdout",
     "output_type": "stream",
     "text": [
      "character frequency : {'T': 2, 'h': 2, 'i': 5, 's': 3, ' ': 6, 'P': 2, 'y': 1, 't': 2, 'o': 4, 'n': 3, 'r': 5, 'g': 4, 'a': 2, 'm': 2, 'u': 1, 'l': 1, 'F': 1, 'B': 1, 'e': 2}\n"
     ]
    }
   ],
   "source": [
    "string = input(\"Enter the string: \")\n",
    "char={}\n",
    "\n",
    "for word in string:\n",
    "    char[word]=char.get(word,0)+1\n",
    "print(\"character frequency :\", char)"
   ]
  },
  {
   "cell_type": "markdown",
   "id": "f065c859-0c74-4c08-aaf2-6ca726b79fcd",
   "metadata": {},
   "source": [
    "4. Key with max value"
   ]
  },
  {
   "cell_type": "code",
   "execution_count": 19,
   "id": "2bcdcc7d-0ee1-4392-bad5-599ba3cbf93a",
   "metadata": {},
   "outputs": [
    {
     "name": "stdout",
     "output_type": "stream",
     "text": [
      "15000\n"
     ]
    }
   ],
   "source": [
    "product={\n",
    "    \"smart watch\" : 2200,\n",
    "    \"Laptop\" : 15000,\n",
    "    \"Tablet\" : 8000\n",
    "}\n",
    "max_product=max(product,key=product.get)\n",
    "print(product[max_product])"
   ]
  },
  {
   "cell_type": "markdown",
   "id": "5e9f2944-5a1a-47ac-b853-02405e2b579c",
   "metadata": {},
   "source": [
    "5. Merge dictionaries"
   ]
  },
  {
   "cell_type": "code",
   "execution_count": 21,
   "id": "8893e3ad-5ceb-4932-8a55-bd330fb93300",
   "metadata": {},
   "outputs": [
    {
     "name": "stdout",
     "output_type": "stream",
     "text": [
      "{'Apple': 500, 'Banana': 300, 'Grapes': 400, 'Digital watch': 2200, 'laptop': 21000, 'speakers': 800}\n"
     ]
    }
   ],
   "source": [
    "D1={\n",
    "   \"Apple\":500,\n",
    "    \"Banana\":300,\n",
    "    \"Grapes\":400\n",
    "}\n",
    "D2={\n",
    "    \"Digital watch\":2200,\n",
    "    \"laptop\":21000,\n",
    "    \"speakers\":800       \n",
    "}\n",
    "merged=D1.copy()\n",
    "for key, value in D2.items():\n",
    "    if key in merged:\n",
    "        merged[key]+=1\n",
    "    else:\n",
    "        merged[key]=value\n",
    "print(merged)"
   ]
  },
  {
   "cell_type": "code",
   "execution_count": null,
   "id": "925c1bff-729f-49ed-bd10-edfe3fff5fb8",
   "metadata": {},
   "outputs": [],
   "source": []
  }
 ],
 "metadata": {
  "kernelspec": {
   "display_name": "Python 3 (ipykernel)",
   "language": "python",
   "name": "python3"
  },
  "language_info": {
   "codemirror_mode": {
    "name": "ipython",
    "version": 3
   },
   "file_extension": ".py",
   "mimetype": "text/x-python",
   "name": "python",
   "nbconvert_exporter": "python",
   "pygments_lexer": "ipython3",
   "version": "3.13.3"
  },
  "widgets": {
   "application/vnd.jupyter.widget-state+json": {
    "state": {},
    "version_major": 2,
    "version_minor": 0
   }
  }
 },
 "nbformat": 4,
 "nbformat_minor": 5
}
