{
 "cells": [
  {
   "cell_type": "code",
   "execution_count": 1,
   "id": "93ac5b98-0c55-494e-a1dd-5b8e775f1dda",
   "metadata": {},
   "outputs": [
    {
     "name": "stdout",
     "output_type": "stream",
     "text": [
      "Hello, World!\n"
     ]
    }
   ],
   "source": [
    "# 1. print a simple message\n",
    "\n",
    "print(\"Hello, World!\")"
   ]
  },
  {
   "cell_type": "code",
   "execution_count": 2,
   "id": "cfade1e3-69a2-435d-89e5-894dae6c2049",
   "metadata": {},
   "outputs": [
    {
     "name": "stdout",
     "output_type": "stream",
     "text": [
      "Name: Muhammad Haris, Age: 22, City: Nowshera\n"
     ]
    }
   ],
   "source": [
    "# 2. print multiple items in one statement\n",
    "\n",
    "print(\"Name: Muhammad Haris, Age: 22, City: Nowshera\")"
   ]
  },
  {
   "cell_type": "code",
   "execution_count": 8,
   "id": "32f83961-a236-406c-9b34-e9c46742e913",
   "metadata": {},
   "outputs": [
    {
     "name": "stdout",
     "output_type": "stream",
     "text": [
      "Welcome to python!Let's Learn coding\n",
      "Welcome to python!\n",
      "Let's Learn coding\n"
     ]
    }
   ],
   "source": [
    "# 3.print using escape character\n",
    "\n",
    "print(\"Welcome to python!\",end=\"\")\n",
    "print(\"Let's Learn coding\")\n",
    "print(\"Welcome to python!\",end=\"\\n\")\n",
    "print(\"Let's Learn coding\")"
   ]
  },
  {
   "cell_type": "code",
   "execution_count": 12,
   "id": "9baf347d-6478-4ccb-8a31-f45d677f0f2f",
   "metadata": {},
   "outputs": [
    {
     "name": "stdout",
     "output_type": "stream",
     "text": [
      "He said, \"Python is Amazing!\"\n",
      "He said, \"python is Amazing\"\n"
     ]
    }
   ],
   "source": [
    "# 4. print quotes inside a string\n",
    "\n",
    "print(\"He said, \\\"Python is Amazing!\\\"\")\n",
    "# other method\n",
    "print('He said, \"python is Amazing\"')"
   ]
  },
  {
   "cell_type": "code",
   "execution_count": 15,
   "id": "16ee95a4-165c-4182-b6e7-adbfcbf94165",
   "metadata": {},
   "outputs": [
    {
     "name": "stdin",
     "output_type": "stream",
     "text": [
      "Enter the number of rows you want to display 5\n"
     ]
    },
    {
     "name": "stdout",
     "output_type": "stream",
     "text": [
      "* \n",
      "* * \n",
      "* * * \n",
      "* * * * \n",
      "* * * * * \n"
     ]
    }
   ],
   "source": [
    "# 5. print a pattern using stars\n",
    "\n",
    "rows = int(input('Enter the number of rows you want to display'))\n",
    "\n",
    "for i in range(1,rows + 1):\n",
    "    for j in range(0, i):\n",
    "        print(\"*\", end = \" \")\n",
    "    print(\"\")"
   ]
  },
  {
   "cell_type": "code",
   "execution_count": 21,
   "id": "b99673b3-cc1f-409e-92a7-455b339eb174",
   "metadata": {},
   "outputs": [
    {
     "name": "stdin",
     "output_type": "stream",
     "text": [
      "Enter your full name muhammad haris\n",
      "Enter your Age 22\n"
     ]
    },
    {
     "name": "stdout",
     "output_type": "stream",
     "text": [
      "Hello, my name is muhammad haris and I am 22 years old\n"
     ]
    }
   ],
   "source": [
    "# intermediate Output Execise\n",
    "# 6. formatted string output using f-string\n",
    "\n",
    "name = input(\"Enter your full name\")\n",
    "age = int(input(\"Enter your Age\"))\n",
    "print(f\"Hello, my name is {name} and I am {age} years old\")"
   ]
  },
  {
   "cell_type": "code",
   "execution_count": 22,
   "id": "ab93d97f-f9be-4a80-a10c-2c81c8876aec",
   "metadata": {},
   "outputs": [
    {
     "name": "stdin",
     "output_type": "stream",
     "text": [
      "Enter the number you want to display the table 5\n"
     ]
    },
    {
     "name": "stdout",
     "output_type": "stream",
     "text": [
      "5 * 1 = 5\n",
      "5 * 2 = 10\n",
      "5 * 3 = 15\n",
      "5 * 4 = 20\n",
      "5 * 5 = 25\n",
      "5 * 6 = 30\n",
      "5 * 7 = 35\n",
      "5 * 8 = 40\n",
      "5 * 9 = 45\n",
      "5 * 10 = 50\n"
     ]
    }
   ],
   "source": [
    "# 7. print a table\n",
    "\n",
    "number = int(input(\"Enter the number you want to display the table\"))\n",
    "\n",
    "i = 1\n",
    "while i<11:\n",
    "    print(number, \"*\", i, \"=\", number*i )\n",
    "    i += 1"
   ]
  },
  {
   "cell_type": "code",
   "execution_count": 32,
   "id": "c3759afa-1974-4e5f-b6b9-f40af14fefeb",
   "metadata": {},
   "outputs": [
    {
     "name": "stdout",
     "output_type": "stream",
     "text": [
      "Banana     Apple      Mango      "
     ]
    }
   ],
   "source": [
    "# 8. align text with padding\n",
    "print(f\"{'Banana':<10}\",end = \" \")\n",
    "print(f\"{'Apple':<10}\",end = \" \")\n",
    "print(f\"{'Mango':<10}\",end = \" \")"
   ]
  },
  {
   "cell_type": "code",
   "execution_count": 33,
   "id": "8b577175-0174-41d3-b852-fc55ca01a42e",
   "metadata": {},
   "outputs": [
    {
     "name": "stdout",
     "output_type": "stream",
     "text": [
      "12\n"
     ]
    }
   ],
   "source": [
    "# 9. output the result of simple calculation\n",
    "\n",
    "print(5 + 7)"
   ]
  },
  {
   "cell_type": "code",
   "execution_count": 42,
   "id": "bfe2b5d5-f58b-493a-9a65-0e5ceaf22909",
   "metadata": {},
   "outputs": [
    {
     "name": "stdout",
     "output_type": "stream",
     "text": [
      "Store Receipt:\n",
      "_________\n",
      "Apple: 5 x 200.00 = 1000.00\n",
      "__________\n",
      "Total: 3400.00\n",
      "Banana: 12 x 150.00 = 1800.00\n",
      "__________\n",
      "Total: 3400.00\n",
      "Orange: 6 x 100.00 = 600.00\n",
      "__________\n",
      "Total: 3400.00\n"
     ]
    }
   ],
   "source": [
    "# 10. print a formatted receipt\n",
    "\n",
    "items = {\n",
    "    \"Apple\": 200,\n",
    "    \"Banana\": 150,\n",
    "    \"Orange\":100,\n",
    "}\n",
    "quantities = {\n",
    "    \"Apple\": 5,\n",
    "    \"Banana\": 12,\n",
    "    \"Orange\": 6,\n",
    "}\n",
    "total = sum(items[item] * quantities[item]for item in items )\n",
    "print(\"Store Receipt:\")\n",
    "print(\"_________\")\n",
    "\n",
    "for item, price in items.items():\n",
    "    quantity = quantities[item]\n",
    "    subtotal = price * quantity\n",
    "    print(f\"{item}: {quantity} x {price:.2f} = {subtotal:.2f}\")\n",
    "    print(\"__________\")\n",
    "    print(f\"Total: {total:.2f}\")"
   ]
  },
  {
   "cell_type": "code",
   "execution_count": 77,
   "id": "99f7969e-0031-490a-af93-81a7f1f208b7",
   "metadata": {},
   "outputs": [
    {
     "name": "stdout",
     "output_type": "stream",
     "text": [
      "if, else, for, while, def, class, impot, is, in, return\n"
     ]
    }
   ],
   "source": [
    "# Basic keywords \n",
    "print(\"if, else, for, while, def, class, impot, is, in, return\")"
   ]
  },
  {
   "cell_type": "code",
   "execution_count": 76,
   "id": "67d6ca4a-6778-4eba-a1aa-eb49bb857b40",
   "metadata": {},
   "outputs": [
    {
     "name": "stdout",
     "output_type": "stream",
     "text": [
      "if,else,elif\n"
     ]
    }
   ],
   "source": [
    "print(\"if,else,elif\")"
   ]
  },
  {
   "cell_type": "code",
   "execution_count": 75,
   "id": "558e9a24-a6a5-438b-b3f6-6eef4d28a248",
   "metadata": {},
   "outputs": [
    {
     "name": "stdout",
     "output_type": "stream",
     "text": [
      "for,while,break,continue\n"
     ]
    }
   ],
   "source": [
    "print(\"for,while,break,continue\")"
   ]
  },
  {
   "cell_type": "code",
   "execution_count": 74,
   "id": "47bf4164-f73a-4b52-a3d7-339fa0ac800c",
   "metadata": {},
   "outputs": [
    {
     "name": "stdout",
     "output_type": "stream",
     "text": [
      "true,false,and,or,not,is\n"
     ]
    }
   ],
   "source": [
    "print(\"true,false,and,or,not,is\")"
   ]
  },
  {
   "cell_type": "code",
   "execution_count": 79,
   "id": "2b8f1939-3ed5-4817-9ef3-65947ff94381",
   "metadata": {},
   "outputs": [
    {
     "name": "stdout",
     "output_type": "stream",
     "text": [
      "class\n",
      "def\n",
      "else\n",
      "for\n",
      "try\n"
     ]
    }
   ],
   "source": [
    "keywords = ['class','def','try','for','else']\n",
    "keywords.sort()\n",
    "for keyword in keywords:\n",
    "    print (keyword)"
   ]
  },
  {
   "cell_type": "code",
   "execution_count": 3,
   "id": "41a75426-2939-4438-b1a7-0499ce0a6be1",
   "metadata": {},
   "outputs": [
    {
     "name": "stdout",
     "output_type": "stream",
     "text": [
      "True , False , None\n"
     ]
    }
   ],
   "source": [
    "#print the keywords that represent the constant value\n",
    "print(\"True , False , None\")"
   ]
  },
  {
   "cell_type": "code",
   "execution_count": 5,
   "id": "aea4342c-d8ad-48c3-ab80-5ac137ffbb72",
   "metadata": {},
   "outputs": [
    {
     "name": "stdout",
     "output_type": "stream",
     "text": [
      "break, continue, pass\n"
     ]
    }
   ],
   "source": [
    "print(\"break, continue, pass\")"
   ]
  },
  {
   "cell_type": "code",
   "execution_count": 7,
   "id": "ffc087e1-74b3-4063-9272-42c1105d7e67",
   "metadata": {},
   "outputs": [
    {
     "name": "stdout",
     "output_type": "stream",
     "text": [
      "The keyword if is used to check conditions\n"
     ]
    }
   ],
   "source": [
    "print(f\"The keyword {'if'} is used to check conditions\")"
   ]
  },
  {
   "cell_type": "code",
   "execution_count": 11,
   "id": "063b86f4-e587-43af-990d-4b2e3d35cfbb",
   "metadata": {},
   "outputs": [
    {
     "name": "stdout",
     "output_type": "stream",
     "text": [
      "keyword      | Use\n",
      "_ _ _ _ _ _ _| _ __ _ _ _ _ _ _ _ _ _ _ _ _ _\n",
      "if           | Conditional check\n",
      "while        | Loop\n",
      "break        | Exit Loop\n"
     ]
    }
   ],
   "source": [
    "print(\"keyword      | Use\")\n",
    "print(\"_ _ _ _ _ _ _| _ __ _ _ _ _ _ _ _ _ _ _ _ _ _\")\n",
    "\n",
    "print(\"if           | Conditional check\")\n",
    "\n",
    "print(\"while        | Loop\")\n",
    "\n",
    "print(\"break        | Exit Loop\")"
   ]
  },
  {
   "cell_type": "code",
   "execution_count": 12,
   "id": "dd38ae9c-a9e7-4d96-93af-7eb92f495e31",
   "metadata": {},
   "outputs": [
    {
     "name": "stdout",
     "output_type": "stream",
     "text": [
      "CLASS\n",
      "DEF\n",
      "TRY\n",
      "FOR\n",
      "ELSE\n"
     ]
    }
   ],
   "source": [
    "keywords = ['class','def','try','for','else']\n",
    "for keyword in keywords:\n",
    "    print(keyword.upper())"
   ]
  },
  {
   "cell_type": "code",
   "execution_count": 14,
   "id": "2e82ccb9-c0a9-456b-949c-028d1e9b9910",
   "metadata": {},
   "outputs": [
    {
     "name": "stdout",
     "output_type": "stream",
     "text": [
      "1.if, else, for, while, def, class, impot, is, in, return\n"
     ]
    }
   ],
   "source": [
    "keywords = [\"if, else, for, while, def, class, impot, is, in, return\"]\n",
    "for i, keyword in enumerate(keywords,start = 1):\n",
    "    print(f\"{i}.{keyword}\")"
   ]
  },
  {
   "cell_type": "code",
   "execution_count": 15,
   "id": "b197fc15-f617-4faa-b3f6-4f2a3c44787d",
   "metadata": {},
   "outputs": [
    {
     "name": "stdout",
     "output_type": "stream",
     "text": [
      "if, is, else, class, def, for, while\n"
     ]
    }
   ],
   "source": [
    "print(\"if, is, else, class, def, for, while\")"
   ]
  },
  {
   "cell_type": "code",
   "execution_count": 18,
   "id": "23595898-a6b2-49e5-87d7-ea9481df14b6",
   "metadata": {},
   "outputs": [
    {
     "name": "stdout",
     "output_type": "stream",
     "text": [
      "python uses if,else and for to control the flow of code\n"
     ]
    }
   ],
   "source": [
    "print(f\"python uses {'if'},{'else'} and {'for'} to control the flow of code\")"
   ]
  },
  {
   "cell_type": "code",
   "execution_count": 22,
   "id": "81b3aecd-876a-4963-a709-56cc6c986263",
   "metadata": {},
   "outputs": [
    {
     "name": "stdout",
     "output_type": "stream",
     "text": [
      "conditional:\n",
      " if\n",
      " else\n",
      "\n",
      "looping:\n",
      " for\n",
      " while\n",
      " break\n",
      "\n",
      "boolean:\n",
      " True\n",
      " False\n",
      " None\n"
     ]
    }
   ],
   "source": [
    "conditional_keywords = [\"if\", \"else\"]\n",
    "looping_keywords = [\"for\", \"while\", \"break\"]\n",
    "boolean_keywords = [\"True\", \"False\", \"None\"]\n",
    "\n",
    "print(\"conditional:\")\n",
    "for keyword in conditional_keywords:\n",
    "    print(f\" {keyword}\")\n",
    "print(\"\\nlooping:\")\n",
    "for keyword in looping_keywords:\n",
    "    print(f\" {keyword}\")\n",
    "print(\"\\nboolean:\")\n",
    "for keyword in boolean_keywords:\n",
    "    print(f\" {keyword}\")\n"
   ]
  },
  {
   "cell_type": "code",
   "execution_count": 28,
   "id": "8726e412-e741-40cd-aeae-1dde1f39a931",
   "metadata": {},
   "outputs": [
    {
     "name": "stdout",
     "output_type": "stream",
     "text": [
      "We can't use Python keywords as variable name because they have special meaning in Python programming.\n",
      "Using keywords as variable name cause confusion for the Python intrepreter.\n"
     ]
    }
   ],
   "source": [
    "print(\"\"\"We can't use Python keywords as variable name because they have special meaning in Python programming.\n",
    "Using keywords as variable name cause confusion for the Python intrepreter.\"\"\")"
   ]
  },
  {
   "cell_type": "code",
   "execution_count": 31,
   "id": "d02e6238-a5b5-430a-894d-d9da1066c6fc",
   "metadata": {},
   "outputs": [
    {
     "name": "stdin",
     "output_type": "stream",
     "text": [
      "Enter your Full Name: haris\n"
     ]
    },
    {
     "name": "stdout",
     "output_type": "stream",
     "text": [
      "Hello, haris!\n"
     ]
    }
   ],
   "source": [
    "name = input(\"Enter your Full Name:\")\n",
    "print(f\"Hello, {name}!\")"
   ]
  },
  {
   "cell_type": "code",
   "execution_count": 32,
   "id": "9339fd46-b1bb-441f-ab5f-5541e006ae78",
   "metadata": {},
   "outputs": [
    {
     "name": "stdin",
     "output_type": "stream",
     "text": [
      "Enter the first number 23\n",
      "Enter the second number 7\n"
     ]
    },
    {
     "name": "stdout",
     "output_type": "stream",
     "text": [
      "30\n"
     ]
    }
   ],
   "source": [
    "num1 = int(input(\"Enter the first number\"))\n",
    "num2 = int(input(\"Enter the second number\"))\n",
    "sum = num1 + num2\n",
    "print(sum)"
   ]
  },
  {
   "cell_type": "code",
   "execution_count": 43,
   "id": "22935ce0-65ca-4050-abf4-1b9141b7e702",
   "metadata": {},
   "outputs": [
    {
     "name": "stdin",
     "output_type": "stream",
     "text": [
      "Enter your favorite color? blue\n"
     ]
    },
    {
     "name": "stdout",
     "output_type": "stream",
     "text": [
      "Your favorite color is: blue\n"
     ]
    }
   ],
   "source": [
    "favorite_color = input(\"Enter your favorite color?\")\n",
    "print(\"Your favorite color is:\",favorite_color)"
   ]
  },
  {
   "cell_type": "code",
   "execution_count": 44,
   "id": "caad6e8c-1d76-4e89-a169-a6fd9f6c0333",
   "metadata": {},
   "outputs": [
    {
     "name": "stdin",
     "output_type": "stream",
     "text": [
      "Enter your age 22\n"
     ]
    },
    {
     "name": "stdout",
     "output_type": "stream",
     "text": [
      "Your are 22 years old\n"
     ]
    }
   ],
   "source": [
    "age = int(input(\"Enter your age\"))\n",
    "print(f\"Your are {age} years old\")"
   ]
  },
  {
   "cell_type": "code",
   "execution_count": 45,
   "id": "68b2c5c6-4b5c-4606-9c34-ff68552ca864",
   "metadata": {},
   "outputs": [
    {
     "name": "stdin",
     "output_type": "stream",
     "text": [
      "Enter the name of your city nowshera\n",
      "Enter the name of your country pakistan\n"
     ]
    },
    {
     "name": "stdout",
     "output_type": "stream",
     "text": [
      "You live in nowshera,pakistan.\n"
     ]
    }
   ],
   "source": [
    "city = input(\"Enter the name of your city\")\n",
    "country = input(\"Enter the name of your country\")\n",
    "print(f\"You live in {city},{country}.\")"
   ]
  },
  {
   "cell_type": "code",
   "execution_count": 46,
   "id": "c9a99ad7-78fc-4185-aa9f-f5dce4433b4e",
   "metadata": {},
   "outputs": [
    {
     "name": "stdin",
     "output_type": "stream",
     "text": [
      "Enter the first number 12\n",
      "Enter the second number 5\n"
     ]
    },
    {
     "name": "stdout",
     "output_type": "stream",
     "text": [
      "7\n"
     ]
    }
   ],
   "source": [
    "num1 = int(input(\"Enter the first number\"))\n",
    "num2 = int(input(\"Enter the second number\"))\n",
    "difference = num1 - num2\n",
    "print(difference)"
   ]
  },
  {
   "cell_type": "code",
   "execution_count": 47,
   "id": "85782e52-1ff8-4e29-a051-7a12c0aae3ad",
   "metadata": {},
   "outputs": [
    {
     "name": "stdin",
     "output_type": "stream",
     "text": [
      "Enter the word haris\n"
     ]
    },
    {
     "name": "stdout",
     "output_type": "stream",
     "text": [
      "HARIS\n"
     ]
    }
   ],
   "source": [
    "word = input(\"Enter the word\")\n",
    "print(word.upper())"
   ]
  },
  {
   "cell_type": "code",
   "execution_count": 48,
   "id": "00854406-2472-49f5-87fb-32c88d068a3e",
   "metadata": {},
   "outputs": [
    {
     "name": "stdin",
     "output_type": "stream",
     "text": [
      "Enter the sentence: my name is muhammad haris\n"
     ]
    },
    {
     "name": "stdout",
     "output_type": "stream",
     "text": [
      "The sentence has 25 characters.\n"
     ]
    }
   ],
   "source": [
    "sentence = input(\"Enter the sentence:\")\n",
    "print(\"The sentence has\", len(sentence),\"characters.\")"
   ]
  },
  {
   "cell_type": "code",
   "execution_count": 49,
   "id": "a988a582-df79-4f32-8890-b1ced9712ed9",
   "metadata": {},
   "outputs": [
    {
     "name": "stdin",
     "output_type": "stream",
     "text": [
      "Enter the name of your school: GPGC nowshera\n"
     ]
    },
    {
     "name": "stdout",
     "output_type": "stream",
     "text": [
      "I study at GPGC nowshera.\n"
     ]
    }
   ],
   "source": [
    "school = input(\"Enter the name of your school:\")\n",
    "print(f\"I study at {school}.\")"
   ]
  },
  {
   "cell_type": "code",
   "execution_count": 51,
   "id": "ab2ac541-074c-4c04-a0bd-b3058cba4ebc",
   "metadata": {},
   "outputs": [
    {
     "name": "stdin",
     "output_type": "stream",
     "text": [
      "Enter your first name haris\n",
      "Enter your last name khan\n"
     ]
    },
    {
     "name": "stdout",
     "output_type": "stream",
     "text": [
      "Your full name is haris khan\n"
     ]
    }
   ],
   "source": [
    "first_name = input(\"Enter your first name\")\n",
    "last_name = input(\"Enter your last name\")\n",
    "print(f\"Your full name is {first_name} {last_name}\")"
   ]
  },
  {
   "cell_type": "code",
   "execution_count": 52,
   "id": "fe4eed0f-2c6c-42e2-92db-450ce2302c73",
   "metadata": {},
   "outputs": [
    {
     "name": "stdin",
     "output_type": "stream",
     "text": [
      "Enter your current age: 22\n"
     ]
    },
    {
     "name": "stdout",
     "output_type": "stream",
     "text": [
      "Your age after 5 years is 27\n"
     ]
    }
   ],
   "source": [
    "current_age = int(input(\"Enter your current age:\"))\n",
    "future_age = current_age + 5\n",
    "print(f\"Your age after 5 years is {future_age}\")\n"
   ]
  },
  {
   "cell_type": "code",
   "execution_count": 53,
   "id": "721d7c76-dc91-48c3-b8c2-1828fb0e01ff",
   "metadata": {},
   "outputs": [
    {
     "name": "stdin",
     "output_type": "stream",
     "text": [
      "Enter the first number 23\n",
      "Enter the second number 2\n"
     ]
    },
    {
     "name": "stdout",
     "output_type": "stream",
     "text": [
      "46\n"
     ]
    }
   ],
   "source": [
    "num1 = int(input(\"Enter the first number\"))\n",
    "num2 = int(input(\"Enter the second number\"))\n",
    "product = num1 * num2\n",
    "print(product)"
   ]
  },
  {
   "cell_type": "code",
   "execution_count": 54,
   "id": "6570ebed-dacc-4a12-8055-e0edd9c31a33",
   "metadata": {},
   "outputs": [
    {
     "name": "stdin",
     "output_type": "stream",
     "text": [
      "Enter your name haris\n",
      "Enter your hobby cricket\n"
     ]
    },
    {
     "name": "stdout",
     "output_type": "stream",
     "text": [
      "haris likes cricket\n"
     ]
    }
   ],
   "source": [
    "name = input(\"Enter your name\")\n",
    "hobby = input(\"Enter your hobby\")\n",
    "print(f\"{name} likes {hobby}\")"
   ]
  },
  {
   "cell_type": "code",
   "execution_count": 63,
   "id": "e98a7bfa-e8ad-423f-8d47-923767aa33b0",
   "metadata": {},
   "outputs": [
    {
     "name": "stdout",
     "output_type": "stream",
     "text": [
      "10\n"
     ]
    }
   ],
   "source": [
    "string_num = \"10\"\n",
    "int_num = int(string_num)\n",
    "result = int_num + 5\n",
    "print(int_num)"
   ]
  },
  {
   "cell_type": "code",
   "execution_count": 65,
   "id": "ee5bbf26-32b4-448c-ab1a-48c8b63b35fa",
   "metadata": {},
   "outputs": [
    {
     "name": "stdout",
     "output_type": "stream",
     "text": [
      "7.9\n"
     ]
    },
    {
     "data": {
      "text/plain": [
       "float"
      ]
     },
     "execution_count": 65,
     "metadata": {},
     "output_type": "execute_result"
    }
   ],
   "source": [
    "string_num = 7.9\n",
    "float_num = float(string_num)\n",
    "print(float_num)\n",
    "type(float_num)"
   ]
  },
  {
   "cell_type": "code",
   "execution_count": 75,
   "id": "48f613bf-645c-4d39-a724-03d1139a13df",
   "metadata": {},
   "outputs": [
    {
     "name": "stdout",
     "output_type": "stream",
     "text": [
      "The number is 5\n"
     ]
    }
   ],
   "source": [
    "num = 5\n",
    "str_num = str(num)\n",
    "print(\"The number is \" + str_num)"
   ]
  },
  {
   "cell_type": "code",
   "execution_count": 76,
   "id": "46edf732-9648-48b7-b5bc-021926deb51f",
   "metadata": {},
   "outputs": [
    {
     "name": "stdout",
     "output_type": "stream",
     "text": [
      "6\n"
     ]
    }
   ],
   "source": [
    "float_num = 6.7\n",
    "int_num = int(float_num)\n",
    "print(int_num)"
   ]
  },
  {
   "cell_type": "code",
   "execution_count": 77,
   "id": "34d486eb-5298-44b8-89cd-23119aacac7f",
   "metadata": {},
   "outputs": [
    {
     "name": "stdout",
     "output_type": "stream",
     "text": [
      "True\n"
     ]
    }
   ],
   "source": [
    "int_num = 1\n",
    "bool_num = bool(int_num)\n",
    "print(bool_num)"
   ]
  },
  {
   "cell_type": "code",
   "execution_count": 78,
   "id": "b22d77bc-c9e0-4ce9-867a-fc41f9b63558",
   "metadata": {},
   "outputs": [
    {
     "name": "stdout",
     "output_type": "stream",
     "text": [
      "True\n"
     ]
    }
   ],
   "source": [
    "print(bool(\"False\"))"
   ]
  },
  {
   "cell_type": "code",
   "execution_count": 81,
   "id": "50ceffa2-6e60-4858-b72e-c8a14197e966",
   "metadata": {},
   "outputs": [
    {
     "name": "stdin",
     "output_type": "stream",
     "text": [
      "Enter the number: 24\n"
     ]
    },
    {
     "name": "stdout",
     "output_type": "stream",
     "text": [
      "The result is 48\n"
     ]
    }
   ],
   "source": [
    "str_num = input(\"Enter the number:\")\n",
    "int_num = int(str_num)\n",
    "result = int_num * 2\n",
    "print(f\"The result is {result}\")"
   ]
  },
  {
   "cell_type": "code",
   "execution_count": 5,
   "id": "9cc7ef0d-47f0-4dee-aeae-d8f846809db3",
   "metadata": {},
   "outputs": [
    {
     "name": "stdin",
     "output_type": "stream",
     "text": [
      "Enter the number: 4.6\n"
     ]
    },
    {
     "name": "stdout",
     "output_type": "stream",
     "text": [
      "The origional number is 4.6\n",
      "The converted number is 4\n"
     ]
    }
   ],
   "source": [
    "float_num = float(input(\"Enter the number:\"))\n",
    "type(float_num )\n",
    "int_num = int(float_num)\n",
    "print(f\"The origional number is {float_num}\")\n",
    "print(f\"The converted number is {int_num}\")"
   ]
  },
  {
   "cell_type": "code",
   "execution_count": 7,
   "id": "d89ba2cd-a1c5-4d01-beff-d8d73891bec3",
   "metadata": {},
   "outputs": [
    {
     "name": "stdin",
     "output_type": "stream",
     "text": [
      "Enter the number: 45\n"
     ]
    },
    {
     "data": {
      "text/plain": [
       "str"
      ]
     },
     "execution_count": 7,
     "metadata": {},
     "output_type": "execute_result"
    }
   ],
   "source": [
    "num = int(input(\"Enter the number:\"))\n",
    "str_num = str(num)\n",
    "type(str_num)\n"
   ]
  },
  {
   "cell_type": "code",
   "execution_count": 8,
   "id": "add6995d-482a-4aa6-9c87-fc7ff1c6bddb",
   "metadata": {},
   "outputs": [
    {
     "name": "stdin",
     "output_type": "stream",
     "text": [
      "Enter the first number: 42\n",
      "Enter the second number: 8\n"
     ]
    },
    {
     "name": "stdout",
     "output_type": "stream",
     "text": [
      "50\n"
     ]
    }
   ],
   "source": [
    "num1 = int(input(\"Enter the first number:\"))\n",
    "num2 = int(input(\"Enter the second number:\"))\n",
    "sum = num1 + num2\n",
    "print(sum)"
   ]
  },
  {
   "cell_type": "code",
   "execution_count": 18,
   "id": "24f71c7d-935d-4d3a-878a-cb46fa112c4f",
   "metadata": {},
   "outputs": [
    {
     "name": "stdin",
     "output_type": "stream",
     "text": [
      "Enter the number: 34.7\n"
     ]
    },
    {
     "name": "stdout",
     "output_type": "stream",
     "text": [
      "Float:  34.7\n",
      "Int:  34\n"
     ]
    }
   ],
   "source": [
    "num_str = input(\"Enter the number:\")\n",
    "num_float= float(num_str)\n",
    "num_int= int(num_float)\n",
    "print(\"Float: \",num_float)\n",
    "print(\"Int: \",num_int)\n"
   ]
  },
  {
   "cell_type": "code",
   "execution_count": 20,
   "id": "d2c54dd9-454d-4d98-aa70-1f35d6064e58",
   "metadata": {},
   "outputs": [
    {
     "ename": "ValueError",
     "evalue": "invalid literal for int() with base 10: '123abc'",
     "output_type": "error",
     "traceback": [
      "\u001b[31m---------------------------------------------------------------------------\u001b[39m",
      "\u001b[31mValueError\u001b[39m                                Traceback (most recent call last)",
      "\u001b[36mCell\u001b[39m\u001b[36m \u001b[39m\u001b[32mIn[20]\u001b[39m\u001b[32m, line 3\u001b[39m\n\u001b[32m      1\u001b[39m \u001b[38;5;66;03m#convert a string lke \"123abc\"to an integer. what error do you get\u001b[39;00m\n\u001b[32m      2\u001b[39m num_str = \u001b[33m\"\u001b[39m\u001b[33m123abc\u001b[39m\u001b[33m\"\u001b[39m\n\u001b[32m----> \u001b[39m\u001b[32m3\u001b[39m num_int = \u001b[38;5;28;43mint\u001b[39;49m\u001b[43m(\u001b[49m\u001b[43mnum_str\u001b[49m\u001b[43m)\u001b[49m\n\u001b[32m      4\u001b[39m \u001b[38;5;66;03m#invalid literal for int() with base 10: '123abc'\u001b[39;00m\n",
      "\u001b[31mValueError\u001b[39m: invalid literal for int() with base 10: '123abc'"
     ]
    }
   ],
   "source": [
    "#convert a string lke \"123abc\"to an integer. what error do you get\n",
    "num_str = \"123abc\"\n",
    "num_int = int(num_str)\n",
    "#invalid literal for int() with base 10: '123abc'"
   ]
  },
  {
   "cell_type": "code",
   "execution_count": 23,
   "id": "21027398-6281-4c83-951c-a209f3e1aa1e",
   "metadata": {},
   "outputs": [
    {
     "name": "stdin",
     "output_type": "stream",
     "text": [
      "Enter the string: 6\n"
     ]
    },
    {
     "name": "stdout",
     "output_type": "stream",
     "text": [
      "The string is numeric. Converted to int: 6\n"
     ]
    }
   ],
   "source": [
    "num_str = input(\"Enter a string:\")\n",
    "if num_str.isnumeric():\n",
    "    num_int = int(num_str)\n",
    "    print(\"The string is numeric. Converted to int:\",num_int)\n",
    "else:\n",
    "    print(\"The string is numeric.\")"
   ]
  },
  {
   "cell_type": "code",
   "execution_count": 30,
   "id": "b0504475-04aa-4e18-adbb-4e3c863d3ada",
   "metadata": {},
   "outputs": [
    {
     "name": "stdin",
     "output_type": "stream",
     "text": [
      "Enter the number: 9.99\n"
     ]
    },
    {
     "name": "stdout",
     "output_type": "stream",
     "text": [
      "9\n",
      "9\n"
     ]
    },
    {
     "data": {
      "text/plain": [
       "str"
      ]
     },
     "execution_count": 30,
     "metadata": {},
     "output_type": "execute_result"
    }
   ],
   "source": [
    "num_float = float(input(\"Enter the number:\"))\n",
    "num_int = int(num_float)\n",
    "num_str = str(num_int)\n",
    "print(num_int)\n",
    "print(num_str)\n",
    "type(num_int)\n",
    "type(num_str)"
   ]
  },
  {
   "cell_type": "code",
   "execution_count": 10,
   "id": "345960ec-6a75-4535-b82b-7afae2910a1d",
   "metadata": {},
   "outputs": [
    {
     "name": "stdout",
     "output_type": "stream",
     "text": [
      "learning Python is fun\n"
     ]
    }
   ],
   "source": [
    "print(\"learning Python is fun\")"
   ]
  },
  {
   "cell_type": "code",
   "execution_count": 11,
   "id": "a3a10f68-8fc1-4f87-bb11-c1713a2687ed",
   "metadata": {},
   "outputs": [
    {
     "name": "stdout",
     "output_type": "stream",
     "text": [
      "integer literal: 10\n",
      "float_literal: 3.14\n"
     ]
    }
   ],
   "source": [
    "int_literal = 10\n",
    "float_literal = 3.14\n",
    "print(\"integer literal:\",int_literal)\n",
    "print(\"float_literal:\",float_literal)"
   ]
  },
  {
   "cell_type": "code",
   "execution_count": 12,
   "id": "5ff807a4-88c2-43b3-803b-aba43c43470b",
   "metadata": {},
   "outputs": [
    {
     "name": "stdout",
     "output_type": "stream",
     "text": [
      "string literals using double quotes\n",
      "string literals using single quotes\n"
     ]
    }
   ],
   "source": [
    "print(\"string literals using double quotes\")\n",
    "print('string literals using single quotes')"
   ]
  },
  {
   "cell_type": "code",
   "execution_count": 14,
   "id": "bc19283f-8ffe-41ae-8b37-6b12ea480d1a",
   "metadata": {},
   "outputs": [
    {
     "name": "stdout",
     "output_type": "stream",
     "text": [
      "a : 5\n",
      "b : 6\n"
     ]
    }
   ],
   "source": [
    "a = True + 4\n",
    "b = False + 6\n",
    "print(\"a :\",a)\n",
    "print(\"b :\", b)"
   ]
  },
  {
   "cell_type": "code",
   "execution_count": 19,
   "id": "4118e560-bb2d-4c8e-bd48-f12a5147858f",
   "metadata": {},
   "outputs": [
    {
     "name": "stdout",
     "output_type": "stream",
     "text": [
      "None\n"
     ]
    }
   ],
   "source": [
    "var = None\n",
    "print(var)"
   ]
  },
  {
   "cell_type": "code",
   "execution_count": 18,
   "id": "a554544d-920f-49bd-b427-c476f578aa6f",
   "metadata": {},
   "outputs": [
    {
     "name": "stdout",
     "output_type": "stream",
     "text": [
      "<class 'str'>\n",
      "<class 'int'>\n",
      "<class 'float'>\n",
      "<class 'bool'>\n",
      "<class 'NoneType'>\n"
     ]
    }
   ],
   "source": [
    "print(type(\"Hello\"))\n",
    "print(type(10))\n",
    "print(type(3.5))\n",
    "print(type(True))\n",
    "print(type(None))\n"
   ]
  },
  {
   "cell_type": "code",
   "execution_count": 20,
   "id": "c09f8181-a47f-4550-b5ac-addfa36f50c9",
   "metadata": {},
   "outputs": [
    {
     "name": "stdout",
     "output_type": "stream",
     "text": [
      "Python's simplicity is powerfull\n"
     ]
    }
   ],
   "source": [
    "print(\"Python's simplicity is powerfull\")"
   ]
  },
  {
   "cell_type": "code",
   "execution_count": 22,
   "id": "3039f2ec-620f-49ea-85b5-62d8aede944d",
   "metadata": {},
   "outputs": [
    {
     "name": "stdout",
     "output_type": "stream",
     "text": [
      "Hello,World\n"
     ]
    }
   ],
   "source": [
    "str1 = \"Hello,\"\n",
    "str2 = \"World\"\n",
    "result = str1 + str2\n",
    "print(result)"
   ]
  },
  {
   "cell_type": "code",
   "execution_count": 25,
   "id": "4478f092-332a-498c-b2b1-2bae12fb7926",
   "metadata": {},
   "outputs": [
    {
     "name": "stdout",
     "output_type": "stream",
     "text": [
      "['haris', 24, True, 7.5]\n"
     ]
    }
   ],
   "source": [
    "list=[\"haris\",24,True,7.5]\n",
    "print(list)"
   ]
  },
  {
   "cell_type": "code",
   "execution_count": 26,
   "id": "84caa5e3-cf6d-49f1-8f46-21ed9602b605",
   "metadata": {},
   "outputs": [
    {
     "name": "stdout",
     "output_type": "stream",
     "text": [
      "python is easy programming language.\n",
      "everyone can easily python for their use.\n",
      "I like python as an AI learmner\n"
     ]
    }
   ],
   "source": [
    "print(\"\"\"python is easy programming language.\n",
    "everyone can easily python for their use.\n",
    "I like python as an AI learmner\"\"\")"
   ]
  },
  {
   "cell_type": "code",
   "execution_count": 28,
   "id": "e979536e-9a37-4877-8fd8-9eee43104f0b",
   "metadata": {},
   "outputs": [
    {
     "name": "stdout",
     "output_type": "stream",
     "text": [
      "None==0\n"
     ]
    }
   ],
   "source": [
    "print(\"None==0\") and print(\"None==False\")\n",
    "#None represent the absense of the value, where as 0 is an integer value and False is boolean value\n",
    "#In python None is not equal to any other value includuing 0 and False "
   ]
  },
  {
   "cell_type": "code",
   "execution_count": null,
   "id": "2b28b543-1627-4123-8f0c-ed58e154285e",
   "metadata": {},
   "outputs": [],
   "source": []
  }
 ],
 "metadata": {
  "kernelspec": {
   "display_name": "Python 3 (ipykernel)",
   "language": "python",
   "name": "python3"
  },
  "language_info": {
   "codemirror_mode": {
    "name": "ipython",
    "version": 3
   },
   "file_extension": ".py",
   "mimetype": "text/x-python",
   "name": "python",
   "nbconvert_exporter": "python",
   "pygments_lexer": "ipython3",
   "version": "3.13.3"
  },
  "widgets": {
   "application/vnd.jupyter.widget-state+json": {
    "state": {},
    "version_major": 2,
    "version_minor": 0
   }
  }
 },
 "nbformat": 4,
 "nbformat_minor": 5
}
