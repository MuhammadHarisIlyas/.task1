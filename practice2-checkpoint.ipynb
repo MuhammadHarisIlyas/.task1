{
 "cells": [
  {
   "cell_type": "code",
   "execution_count": 2,
   "id": "de0f86b7-68ac-4a58-a4ea-bc32d271d5c5",
   "metadata": {},
   "outputs": [
    {
     "name": "stdin",
     "output_type": "stream",
     "text": [
      " 43\n"
     ]
    },
    {
     "data": {
      "text/plain": [
       "'43'"
      ]
     },
     "execution_count": 2,
     "metadata": {},
     "output_type": "execute_result"
    }
   ],
   "source": [
    "input()"
   ]
  },
  {
   "cell_type": "code",
   "execution_count": 4,
   "id": "1f410560-8627-4d86-a842-7f055fbe89bc",
   "metadata": {},
   "outputs": [
    {
     "name": "stdin",
     "output_type": "stream",
     "text": [
      "Enter your full name: Muhammad Haris\n"
     ]
    },
    {
     "data": {
      "text/plain": [
       "'Muhammad Haris'"
      ]
     },
     "execution_count": 4,
     "metadata": {},
     "output_type": "execute_result"
    }
   ],
   "source": [
    "input(\"Enter your full name:\")"
   ]
  },
  {
   "cell_type": "code",
   "execution_count": 7,
   "id": "268524c7-3728-482a-94d0-da27f4b472f7",
   "metadata": {},
   "outputs": [
    {
     "name": "stdin",
     "output_type": "stream",
     "text": [
      "Enter the first num: 65\n",
      "Enter the second num 56\n"
     ]
    }
   ],
   "source": [
    "first_num=input(\"Enter the first num:\")\n",
    "second_num=input(\"Enter the second num\")"
   ]
  },
  {
   "cell_type": "code",
   "execution_count": 8,
   "id": "1a6afb47-c88e-44f2-a612-9f601f0b8a7b",
   "metadata": {},
   "outputs": [
    {
     "name": "stdout",
     "output_type": "stream",
     "text": [
      "65\n",
      "56\n"
     ]
    }
   ],
   "source": [
    "print(first_num)\n",
    "print(second_num)"
   ]
  },
  {
   "cell_type": "code",
   "execution_count": 11,
   "id": "8b0e974f-aa53-40f1-ba8f-4be00be90d8f",
   "metadata": {},
   "outputs": [
    {
     "name": "stdout",
     "output_type": "stream",
     "text": [
      "6556\n"
     ]
    }
   ],
   "source": [
    "result=first_num+second_num\n",
    "print(result)"
   ]
  },
  {
   "cell_type": "code",
   "execution_count": 12,
   "id": "df1ddea6-2f7d-4433-9d27-29d4aabd7d37",
   "metadata": {},
   "outputs": [
    {
     "data": {
      "text/plain": [
       "str"
      ]
     },
     "execution_count": 12,
     "metadata": {},
     "output_type": "execute_result"
    }
   ],
   "source": [
    "type(first_num)"
   ]
  },
  {
   "cell_type": "code",
   "execution_count": 13,
   "id": "1bfe7e11-634d-49b4-a626-bb3aed9c5d7b",
   "metadata": {},
   "outputs": [
    {
     "name": "stdout",
     "output_type": "stream",
     "text": [
      "65\n"
     ]
    }
   ],
   "source": [
    "print(first_num)"
   ]
  },
  {
   "cell_type": "code",
   "execution_count": 14,
   "id": "95f2bc53-3c80-40b1-816c-54ed3f96d196",
   "metadata": {},
   "outputs": [
    {
     "data": {
      "text/plain": [
       "9.5"
      ]
     },
     "execution_count": 14,
     "metadata": {},
     "output_type": "execute_result"
    }
   ],
   "source": [
    "4.5+5"
   ]
  },
  {
   "cell_type": "code",
   "execution_count": 15,
   "id": "9bbe183e-1f16-420f-b865-f4ade4721f7f",
   "metadata": {},
   "outputs": [
    {
     "data": {
      "text/plain": [
       "(4+5j)"
      ]
     },
     "execution_count": 15,
     "metadata": {},
     "output_type": "execute_result"
    }
   ],
   "source": [
    "4+5j"
   ]
  },
  {
   "cell_type": "code",
   "execution_count": 16,
   "id": "47d145a4-cd12-4c38-82ad-6c9f7fdcabe3",
   "metadata": {},
   "outputs": [
    {
     "data": {
      "text/plain": [
       "(3.6+7j)"
      ]
     },
     "execution_count": 16,
     "metadata": {},
     "output_type": "execute_result"
    }
   ],
   "source": [
    "3.6+7j"
   ]
  },
  {
   "cell_type": "code",
   "execution_count": 17,
   "id": "a92692f2-9845-4e2d-ae59-ffdc63883f6d",
   "metadata": {},
   "outputs": [
    {
     "data": {
      "text/plain": [
       "(12.8+9j)"
      ]
     },
     "execution_count": 17,
     "metadata": {},
     "output_type": "execute_result"
    }
   ],
   "source": [
    "6.8+6+9j"
   ]
  },
  {
   "cell_type": "code",
   "execution_count": 18,
   "id": "ccc4403a-ed1b-433a-bf21-3b1f5be61e75",
   "metadata": {},
   "outputs": [
    {
     "data": {
      "text/plain": [
       "6"
      ]
     },
     "execution_count": 18,
     "metadata": {},
     "output_type": "execute_result"
    }
   ],
   "source": [
    "int(6.7)"
   ]
  },
  {
   "cell_type": "code",
   "execution_count": 19,
   "id": "569fdd81-a934-4e89-b4b0-a11107e609e2",
   "metadata": {},
   "outputs": [
    {
     "data": {
      "text/plain": [
       "74.0"
      ]
     },
     "execution_count": 19,
     "metadata": {},
     "output_type": "execute_result"
    }
   ],
   "source": [
    "float(74)"
   ]
  },
  {
   "cell_type": "code",
   "execution_count": 20,
   "id": "6b8055a5-3f92-4429-8b1b-d11873e479a4",
   "metadata": {},
   "outputs": [
    {
     "data": {
      "text/plain": [
       "'64'"
      ]
     },
     "execution_count": 20,
     "metadata": {},
     "output_type": "execute_result"
    }
   ],
   "source": [
    "str(64)"
   ]
  },
  {
   "cell_type": "code",
   "execution_count": 27,
   "id": "f9b585b9-0425-4c67-84c3-0881d63a9aaf",
   "metadata": {},
   "outputs": [
    {
     "data": {
      "text/plain": [
       "['m', 'u', 'h', 'a', 'm', 'm', 'a', 'd']"
      ]
     },
     "execution_count": 27,
     "metadata": {},
     "output_type": "execute_result"
    }
   ],
   "source": [
    "list(\"muhammad\")"
   ]
  },
  {
   "cell_type": "code",
   "execution_count": 29,
   "id": "b0ced8c7-cbd9-4938-867b-13bfde3ebf02",
   "metadata": {},
   "outputs": [
    {
     "name": "stdin",
     "output_type": "stream",
     "text": [
      "Enter the first num: 65\n",
      "Enter the second num 87\n"
     ]
    },
    {
     "name": "stdout",
     "output_type": "stream",
     "text": [
      "152\n"
     ]
    }
   ],
   "source": [
    "first_num=int(input(\"Enter the first num:\"))\n",
    "second_num=int(input(\"Enter the second num\"))\n",
    "result=first_num+second_num\n",
    "print(result)"
   ]
  },
  {
   "cell_type": "code",
   "execution_count": 4,
   "id": "0a1dacfb-4f8c-4aea-832e-600f193bb0a4",
   "metadata": {},
   "outputs": [],
   "source": [
    "#arithmatic operator\n",
    "x=5\n",
    "y=2"
   ]
  },
  {
   "cell_type": "code",
   "execution_count": 5,
   "id": "8cecd80a-8f2e-462e-84cf-949bdd58d61f",
   "metadata": {},
   "outputs": [
    {
     "name": "stdout",
     "output_type": "stream",
     "text": [
      "7\n"
     ]
    }
   ],
   "source": [
    "print(x+y)"
   ]
  },
  {
   "cell_type": "code",
   "execution_count": 6,
   "id": "aa4f27ad-c693-46ad-bb17-0c9ba8063ed2",
   "metadata": {},
   "outputs": [
    {
     "name": "stdout",
     "output_type": "stream",
     "text": [
      "3\n"
     ]
    }
   ],
   "source": [
    "print(x-y)"
   ]
  },
  {
   "cell_type": "code",
   "execution_count": 7,
   "id": "99e2b561-76bc-4980-b015-c19f6257c994",
   "metadata": {},
   "outputs": [
    {
     "name": "stdout",
     "output_type": "stream",
     "text": [
      "10\n"
     ]
    }
   ],
   "source": [
    "print(x*y)"
   ]
  },
  {
   "cell_type": "code",
   "execution_count": 8,
   "id": "b208c579-2bd4-46e0-9abb-a18ecdf71f30",
   "metadata": {},
   "outputs": [
    {
     "name": "stdout",
     "output_type": "stream",
     "text": [
      "2.5\n"
     ]
    }
   ],
   "source": [
    "print(x/y)"
   ]
  },
  {
   "cell_type": "code",
   "execution_count": 9,
   "id": "9cabbcba-cb75-4250-9fef-4ec67d957769",
   "metadata": {},
   "outputs": [
    {
     "name": "stdout",
     "output_type": "stream",
     "text": [
      "1\n"
     ]
    }
   ],
   "source": [
    "print(x%y)"
   ]
  },
  {
   "cell_type": "code",
   "execution_count": 10,
   "id": "1d46592b-4d30-4596-8f19-1208607847db",
   "metadata": {},
   "outputs": [
    {
     "name": "stdout",
     "output_type": "stream",
     "text": [
      "2\n"
     ]
    }
   ],
   "source": [
    "print(x//y)"
   ]
  },
  {
   "cell_type": "code",
   "execution_count": 12,
   "id": "a0b12b6a-b72f-4d5c-8422-5d1f3c1ad4b9",
   "metadata": {},
   "outputs": [
    {
     "name": "stdout",
     "output_type": "stream",
     "text": [
      "True\n"
     ]
    }
   ],
   "source": [
    "#comparison operator\n",
    "print(x > y)"
   ]
  },
  {
   "cell_type": "code",
   "execution_count": 13,
   "id": "60181068-63a4-42de-bad5-3e02fa4b77ee",
   "metadata": {},
   "outputs": [
    {
     "name": "stdout",
     "output_type": "stream",
     "text": [
      "False\n"
     ]
    }
   ],
   "source": [
    "print(x < y)"
   ]
  },
  {
   "cell_type": "code",
   "execution_count": 14,
   "id": "2bf14291-b396-4327-8707-c0cfddb74cc1",
   "metadata": {},
   "outputs": [
    {
     "name": "stdout",
     "output_type": "stream",
     "text": [
      "True\n"
     ]
    }
   ],
   "source": [
    "print(x >= y)"
   ]
  },
  {
   "cell_type": "code",
   "execution_count": 15,
   "id": "d80bccd5-9c7a-48bd-a36e-b3c7b89e7b2b",
   "metadata": {},
   "outputs": [
    {
     "name": "stdout",
     "output_type": "stream",
     "text": [
      "False\n"
     ]
    }
   ],
   "source": [
    "print(x <= y)"
   ]
  },
  {
   "cell_type": "code",
   "execution_count": 16,
   "id": "bfa101a3-a7c1-4dbf-a6d4-ee199afcfaed",
   "metadata": {},
   "outputs": [
    {
     "name": "stdout",
     "output_type": "stream",
     "text": [
      "False\n"
     ]
    }
   ],
   "source": [
    "print(x == y)"
   ]
  },
  {
   "cell_type": "code",
   "execution_count": 17,
   "id": "2d41ca60-263e-4aab-8b05-92caa4cbb2ef",
   "metadata": {},
   "outputs": [
    {
     "name": "stdout",
     "output_type": "stream",
     "text": [
      "True\n"
     ]
    }
   ],
   "source": [
    "print(x != y)"
   ]
  },
  {
   "cell_type": "code",
   "execution_count": 18,
   "id": "9771a4c3-0b15-415d-9252-88e8ca1f73aa",
   "metadata": {},
   "outputs": [
    {
     "name": "stdout",
     "output_type": "stream",
     "text": [
      "True\n"
     ]
    }
   ],
   "source": [
    "#logical operator\n",
    "x = True\n",
    "y = False\n",
    "print(x or y)"
   ]
  },
  {
   "cell_type": "code",
   "execution_count": 19,
   "id": "f7c9de8f-b54f-4d8f-82ce-0bdd06abd98a",
   "metadata": {},
   "outputs": [
    {
     "name": "stdout",
     "output_type": "stream",
     "text": [
      "False\n"
     ]
    }
   ],
   "source": [
    "print(x and y)"
   ]
  },
  {
   "cell_type": "code",
   "execution_count": 20,
   "id": "5160b6b3-afb8-4f3d-bcb5-32cab19300cf",
   "metadata": {},
   "outputs": [
    {
     "name": "stdout",
     "output_type": "stream",
     "text": [
      "False\n"
     ]
    }
   ],
   "source": [
    "print(not x)"
   ]
  },
  {
   "cell_type": "code",
   "execution_count": 25,
   "id": "7cc4c9ca-865b-4c3f-867b-fce8856189f7",
   "metadata": {},
   "outputs": [],
   "source": [
    "#bitwise operator\n",
    "x = 2\n",
    "y = 3"
   ]
  },
  {
   "cell_type": "code",
   "execution_count": 27,
   "id": "41abb1e2-6fa5-47a6-8a7e-5cccb21ca85e",
   "metadata": {},
   "outputs": [
    {
     "name": "stdout",
     "output_type": "stream",
     "text": [
      "2\n"
     ]
    }
   ],
   "source": [
    "print(x & y)"
   ]
  },
  {
   "cell_type": "code",
   "execution_count": 28,
   "id": "6ad06d3f-a27f-4571-a849-652f7d4d3c95",
   "metadata": {},
   "outputs": [
    {
     "name": "stdout",
     "output_type": "stream",
     "text": [
      "3\n"
     ]
    }
   ],
   "source": [
    "print(x | y)"
   ]
  },
  {
   "cell_type": "code",
   "execution_count": 31,
   "id": "f6cc5e08-2127-4fba-90ba-12bcc745efad",
   "metadata": {},
   "outputs": [
    {
     "name": "stdout",
     "output_type": "stream",
     "text": [
      "0\n"
     ]
    }
   ],
   "source": [
    "print(x >> 2)"
   ]
  },
  {
   "cell_type": "code",
   "execution_count": 33,
   "id": "30057020-cde6-4743-88bc-8f7f621aa685",
   "metadata": {},
   "outputs": [
    {
     "name": "stdout",
     "output_type": "stream",
     "text": [
      "24\n"
     ]
    }
   ],
   "source": [
    "print(y << 3)"
   ]
  },
  {
   "cell_type": "code",
   "execution_count": 34,
   "id": "cbfb6484-030c-4fb6-b3b9-94526ce27bf2",
   "metadata": {},
   "outputs": [
    {
     "name": "stdout",
     "output_type": "stream",
     "text": [
      "-3\n"
     ]
    }
   ],
   "source": [
    "print(~x)"
   ]
  },
  {
   "cell_type": "code",
   "execution_count": 35,
   "id": "9fa03675-e2a6-4a48-bbf2-88f1855a0956",
   "metadata": {},
   "outputs": [
    {
     "name": "stdout",
     "output_type": "stream",
     "text": [
      "4\n"
     ]
    }
   ],
   "source": [
    "#Assignment operator\n",
    "a = 4\n",
    "print(a)"
   ]
  },
  {
   "cell_type": "code",
   "execution_count": 36,
   "id": "3e64f5a4-8a54-47ed-8882-3adae535326c",
   "metadata": {},
   "outputs": [
    {
     "name": "stdout",
     "output_type": "stream",
     "text": [
      "7\n"
     ]
    }
   ],
   "source": [
    "a += 3\n",
    "print(a)"
   ]
  },
  {
   "cell_type": "code",
   "execution_count": 37,
   "id": "329c40bc-f544-4b60-8689-ced93a6665de",
   "metadata": {},
   "outputs": [
    {
     "name": "stdout",
     "output_type": "stream",
     "text": [
      "3\n"
     ]
    }
   ],
   "source": [
    "a -= 4\n",
    "print(a)"
   ]
  },
  {
   "cell_type": "code",
   "execution_count": 45,
   "id": "fa26e0b6-6d08-4572-a34e-ba7c375ee3f0",
   "metadata": {},
   "outputs": [
    {
     "name": "stdout",
     "output_type": "stream",
     "text": [
      "False\n"
     ]
    }
   ],
   "source": [
    "#identity operator (is and is not operators)\n",
    "a = 3 \n",
    "b = 3\n",
    "print(a is not b)"
   ]
  },
  {
   "cell_type": "code",
   "execution_count": 40,
   "id": "e1b7ab6d-84bf-4ac3-9ee9-1a07cc425afc",
   "metadata": {},
   "outputs": [
    {
     "name": "stdout",
     "output_type": "stream",
     "text": [
      "False\n"
     ]
    }
   ],
   "source": [
    "a = \"Hello\"\n",
    "b = \"hello\"\n",
    "print(a is b)"
   ]
  },
  {
   "cell_type": "code",
   "execution_count": 41,
   "id": "2a0f4c6f-cf0a-4cf0-9055-47fed67f7553",
   "metadata": {},
   "outputs": [
    {
     "name": "stdout",
     "output_type": "stream",
     "text": [
      "False\n"
     ]
    }
   ],
   "source": [
    "a = [1,4,3,6]\n",
    "b = [1,4,3,6]\n",
    "print(a is b)"
   ]
  },
  {
   "cell_type": "code",
   "execution_count": 43,
   "id": "3e84f867-16a0-4fe3-9de6-9f655382c554",
   "metadata": {},
   "outputs": [
    {
     "name": "stdout",
     "output_type": "stream",
     "text": [
      "False\n"
     ]
    }
   ],
   "source": [
    "#membership operator(in and not in operators)\n",
    "x = \"haris\"\n",
    "print(\"h\" not in x)"
   ]
  },
  {
   "cell_type": "code",
   "execution_count": 44,
   "id": "ae4b104d-a349-4f28-9eb4-e863e2828172",
   "metadata": {},
   "outputs": [
    {
     "name": "stdout",
     "output_type": "stream",
     "text": [
      "True\n"
     ]
    }
   ],
   "source": [
    "x =[3,4,6,8,2]\n",
    "print(4 in x)"
   ]
  },
  {
   "cell_type": "code",
   "execution_count": null,
   "id": "c1d1b831-968f-4537-953a-7f20f260d539",
   "metadata": {},
   "outputs": [],
   "source": []
  }
 ],
 "metadata": {
  "kernelspec": {
   "display_name": "Python 3 (ipykernel)",
   "language": "python",
   "name": "python3"
  },
  "language_info": {
   "codemirror_mode": {
    "name": "ipython",
    "version": 3
   },
   "file_extension": ".py",
   "mimetype": "text/x-python",
   "name": "python",
   "nbconvert_exporter": "python",
   "pygments_lexer": "ipython3",
   "version": "3.13.3"
  }
 },
 "nbformat": 4,
 "nbformat_minor": 5
}
